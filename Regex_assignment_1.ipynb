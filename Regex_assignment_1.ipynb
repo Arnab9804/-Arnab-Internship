{
 "cells": [
  {
   "cell_type": "code",
   "execution_count": 1,
   "id": "8a4a122f",
   "metadata": {},
   "outputs": [],
   "source": [
    "import regex as re"
   ]
  },
  {
   "cell_type": "markdown",
   "id": "21ca0e11",
   "metadata": {},
   "source": [
    "Q1: Write a Python program to replace all occurrences of a space, comma, or dot with a colon.\n",
    "    Sample text: 'Python Exercises, PHP exercises.'"
   ]
  },
  {
   "cell_type": "code",
   "execution_count": 2,
   "id": "962ca1f3",
   "metadata": {},
   "outputs": [
    {
     "name": "stdout",
     "output_type": "stream",
     "text": [
      "Python:Exercises::PHP:exercises.\n"
     ]
    }
   ],
   "source": [
    "text= \"Python Exercises, PHP exercises.\"\n",
    "x=re.sub(\"\\s|,\",\":\",text)\n",
    "print (x)\n"
   ]
  },
  {
   "cell_type": "markdown",
   "id": "db287a95",
   "metadata": {},
   "source": [
    "Q2: Write a Python program to find all words starting with 'a' or 'e' in a given string."
   ]
  },
  {
   "cell_type": "code",
   "execution_count": 3,
   "id": "789f6813",
   "metadata": {},
   "outputs": [
    {
     "name": "stdout",
     "output_type": "stream",
     "text": [
      "['ata', 'ence', 'ata', 'extract', 'eaningful', 'ess']\n"
     ]
    }
   ],
   "source": [
    "Text=\"Data science is the study of data to extract meaningful insights for business.\"\n",
    "find=re.findall(\"[a,e]\\w+\",Text)\n",
    "print (find)"
   ]
  },
  {
   "cell_type": "markdown",
   "id": "4dc61af7",
   "metadata": {},
   "source": [
    "Q3:Create a function in python to find all words that are at least 4 characters long in a string. The use of the re.compile() method is mandatory."
   ]
  },
  {
   "cell_type": "code",
   "execution_count": 4,
   "id": "76a49816",
   "metadata": {},
   "outputs": [
    {
     "name": "stdout",
     "output_type": "stream",
     "text": [
      "['Rohit', 'Sharma', 'scored', 'CENTURIES', 'HALFCENTURIES', 'cricket', 'career']\n"
     ]
    }
   ],
   "source": [
    "target_string=\"Rohit Sharma has scored 43 CENTURIES and 91 HALFCENTURIES in his cricket career \"\n",
    "print (re.findall(r\"\\b\\w{4,}\\b\",target_string))\n",
    "    "
   ]
  },
  {
   "cell_type": "code",
   "execution_count": 5,
   "id": "c799af3f",
   "metadata": {},
   "outputs": [
    {
     "name": "stdout",
     "output_type": "stream",
     "text": [
      "['Rohit', 'Sharma', 'scored', 'CENTURIES', 'HALFCENTURIES', 'cricket', 'career']\n"
     ]
    }
   ],
   "source": [
    "def Specific_chr(text):\n",
    "    pattern=re.compile(r\"\\b\\w{4,}\\b\")\n",
    "    string=pattern.findall(text)\n",
    "    return string\n",
    "\n",
    "print(Specific_chr(\"Rohit Sharma has scored 43 CENTURIES and 91 HALFCENTURIES in his cricket career \"))"
   ]
  },
  {
   "cell_type": "markdown",
   "id": "053eb869",
   "metadata": {},
   "source": [
    "Q4:Create a function in python to find all three, four, and five character words in a string. The use of the re.compile() method is mandatory."
   ]
  },
  {
   "cell_type": "code",
   "execution_count": 6,
   "id": "3e48e053",
   "metadata": {},
   "outputs": [
    {
     "name": "stdout",
     "output_type": "stream",
     "text": [
      "rose\n",
      "any\n",
      "other\n",
      "name\n",
      "would\n",
      "smell\n",
      "sweet\n"
     ]
    }
   ],
   "source": [
    "target_string= \"A rose by any other name would smell as sweet. \"\n",
    "\n",
    "pattern=re.compile(r\"\\b\\w{3,5}\\b\")\n",
    "\n",
    "for match in pattern.finditer(target_string):\n",
    "    print (match.group())\n",
    "    "
   ]
  },
  {
   "cell_type": "markdown",
   "id": "2517385f",
   "metadata": {},
   "source": [
    "Q5:Create a function in Python to remove the parenthesis in a list of strings. The use of the re.compile() method is mandatory.\n",
    "    Sample Text: [\"example (.com)\", \"hr@fliprobo (.com)\", \"github (.com)\", \"Hello (Data Science World)\", \"Data (Scientist)\"]\n"
   ]
  },
  {
   "cell_type": "code",
   "execution_count": 7,
   "id": "f5c1f12c",
   "metadata": {},
   "outputs": [
    {
     "name": "stdout",
     "output_type": "stream",
     "text": [
      "example .com \n",
      "hr@fliprobo .com \n",
      "github .com \n",
      "Hello Data Science World \n",
      "Data Scientist \n"
     ]
    }
   ],
   "source": [
    "text=[\"example (.com)\", \"hr@fliprobo (.com)\", \"github (.com)\", \"Hello (Data Science World)\", \"Data (Scientist)\"]\n",
    "for match in text:\n",
    "    print (re.sub(r\" ?\\(| ?\\)\",\" \",match))"
   ]
  },
  {
   "cell_type": "markdown",
   "id": "5dfe68b4",
   "metadata": {},
   "source": [
    "Q6:Write a python program to remove the parenthesis area from the text stored in the text file using Regular Expression.\n",
    "    Sample Text: [\"example (.com)\", \"hr@fliprobo (.com)\", \"github (.com)\", \"Hello (Data Science World)\", \"Data (Scientist)\"]\n",
    "    "
   ]
  },
  {
   "cell_type": "code",
   "execution_count": 8,
   "id": "92f58be4",
   "metadata": {},
   "outputs": [
    {
     "name": "stdout",
     "output_type": "stream",
     "text": [
      "example \n",
      "hr@fliprobo \n",
      "github \n",
      "Hello \n",
      "Data \n"
     ]
    }
   ],
   "source": [
    "text=[\"example (.com)\", \"hr@fliprobo (.com)\", \"github (.com)\", \"Hello (Data Science World)\", \"Data (Scientist)\"]\n",
    "for i in text:\n",
    "    print (re.sub(r\" ?\\([^)]+\\)\" ,\" \" , i))"
   ]
  },
  {
   "cell_type": "markdown",
   "id": "3308dfda",
   "metadata": {},
   "source": [
    "Q7:Write a regular expression in Python to split a string into uppercase letters.\n",
    "    Sample text: “ImportanceOfRegularExpressionsInPython”"
   ]
  },
  {
   "cell_type": "code",
   "execution_count": 9,
   "id": "6b417137",
   "metadata": {},
   "outputs": [
    {
     "name": "stdout",
     "output_type": "stream",
     "text": [
      "['Importance', 'Of', 'Regular', 'Expressions', 'In', 'Python']\n"
     ]
    }
   ],
   "source": [
    "text2 = \"ImportanceOfRegularExpressionsInPython\"\n",
    "match=re.findall('[A-Z][^A-Z]*',text2)\n",
    "print (match)"
   ]
  },
  {
   "cell_type": "markdown",
   "id": "1fdff500",
   "metadata": {},
   "source": [
    "Q8:Create a function in python to insert spaces between words starting with numbers.\n",
    "    Sample Text: “RegularExpression1IsAn2ImportantTopic3InPython\""
   ]
  },
  {
   "cell_type": "code",
   "execution_count": 10,
   "id": "b685f3f1",
   "metadata": {},
   "outputs": [
    {
     "name": "stdout",
     "output_type": "stream",
     "text": [
      "RegularExpression 1IsAn 2ImportantTopic 3InPython\n"
     ]
    }
   ],
   "source": [
    "text3 = \"RegularExpression1IsAn2ImportantTopic3InPython\" \n",
    "spaces=re.sub(r'(\\w)([0-9])', r\"\\1 \\2\",text3)\n",
    "print (spaces)\n"
   ]
  },
  {
   "cell_type": "markdown",
   "id": "2e11d01b",
   "metadata": {},
   "source": [
    "Q9:Create a function in python to insert spaces between words starting with capital letters or with numbers.\n",
    "    Sample Text: “RegularExpression1IsAn2ImportantTopic3InPython\""
   ]
  },
  {
   "cell_type": "code",
   "execution_count": 11,
   "id": "4d477f33",
   "metadata": {},
   "outputs": [
    {
     "name": "stdout",
     "output_type": "stream",
     "text": [
      "None\n"
     ]
    }
   ],
   "source": [
    "import regex as re\n",
    "def insert_space(string):\n",
    "    words=re.sub(r\"[0-9]|[A-Za-z]*\",\" \",string)\n",
    "print(insert_space(\"RegularExpression1IsAn2ImportantTopic3InPython\"))                "
   ]
  },
  {
   "cell_type": "code",
   "execution_count": 12,
   "id": "198073b3",
   "metadata": {},
   "outputs": [
    {
     "name": "stdout",
     "output_type": "stream",
     "text": [
      "Regular Expression 1 Is An 2 Important Topic 3 In Python\n"
     ]
    }
   ],
   "source": [
    "def Insert_space(string):\n",
    "    words = re.findall(r\"[0-9]|[A-Z][a-z]*\", string)\n",
    "    print(' '.join(words))\n",
    "Insert_space(\"RegularExpression1IsAn2ImportantTopic3InPython\")"
   ]
  },
  {
   "cell_type": "markdown",
   "id": "8a312bca",
   "metadata": {},
   "source": [
    "Q10:Write a python program to extract email address from the text stored in the text file using Regular Expression."
   ]
  },
  {
   "cell_type": "code",
   "execution_count": 13,
   "id": "d3aa133c",
   "metadata": {},
   "outputs": [
    {
     "name": "stdout",
     "output_type": "stream",
     "text": [
      "['xyz@domain.com', 'xyz.abc@sdomain.domain']\n",
      "['hr@fliprobo.com']\n"
     ]
    }
   ],
   "source": [
    "file=open ('data.txt')\n",
    "for line in file:\n",
    "    pattern= '[\\w._%-]+@[a-zA-Z0-9]+\\.[a-zA-Z]{2,}'\n",
    "    email=re.findall(pattern,line)\n",
    "    print (email)\n",
    "    \n"
   ]
  },
  {
   "cell_type": "markdown",
   "id": "d8ce2545",
   "metadata": {},
   "source": [
    "Q11:Write a Python program to match a string that contains only upper and lowercase letters, numbers, and underscores."
   ]
  },
  {
   "cell_type": "code",
   "execution_count": 14,
   "id": "1a982066",
   "metadata": {},
   "outputs": [
    {
     "name": "stdout",
     "output_type": "stream",
     "text": [
      "['xYz_123']\n",
      "Found Match! \n",
      "\n",
      "['Python_', 'Exercises_1']\n",
      "Found Match! \n",
      "\n"
     ]
    }
   ],
   "source": [
    "def text_match(text):\n",
    "\n",
    "    patterns= r\"[A-Za-z]+[0-9_]+\"\n",
    "    match=re.findall(patterns,text)\n",
    "    \n",
    "    if match:\n",
    "        print (match)\n",
    "        return 'Found Match! \\n'\n",
    "    else:\n",
    "        return 'Not Found!'\n",
    "    \n",
    "print(text_match(\"The quick brown fox jumps over the lazy dog named xYz_123.\"))\n",
    "print(text_match(\"Python_Exercises_1\"))"
   ]
  },
  {
   "cell_type": "markdown",
   "id": "abb5a2d5",
   "metadata": {},
   "source": [
    "Q12:- Write a Python program where a string will start with a specific number. "
   ]
  },
  {
   "cell_type": "code",
   "execution_count": 15,
   "id": "a36edec6",
   "metadata": {},
   "outputs": [
    {
     "name": "stdout",
     "output_type": "stream",
     "text": [
      "True\n",
      "False\n"
     ]
    }
   ],
   "source": [
    "def match_num(string):\n",
    "    text=re.compile(r\"^5\")\n",
    "    if text.match(string):\n",
    "        return True\n",
    "    else:\n",
    "        return False\n",
    "    \n",
    "print(match_num('5-14254arhbva'))\n",
    "print (match_num('6-84654alkjvha'))"
   ]
  },
  {
   "cell_type": "markdown",
   "id": "1fe83112",
   "metadata": {},
   "source": [
    "Q13:Write a Python program to remove leading zeros from an IP address"
   ]
  },
  {
   "cell_type": "code",
   "execution_count": 16,
   "id": "c5156b32",
   "metadata": {},
   "outputs": [
    {
     "name": "stdout",
     "output_type": "stream",
     "text": [
      "216.8.94.196\n"
     ]
    }
   ],
   "source": [
    "ip=\"216.08.094.196\"\n",
    "string =re.sub(r\"\\.[0]\", \".\" ,ip)\n",
    "print (string)"
   ]
  },
  {
   "cell_type": "markdown",
   "id": "47b5895d",
   "metadata": {},
   "source": [
    "Q14:Write a regular expression in python to match a date string in the form of Month name followed by day number and year stored in a text file."
   ]
  },
  {
   "cell_type": "code",
   "execution_count": 7,
   "id": "6c7d0476",
   "metadata": {},
   "outputs": [
    {
     "name": "stdout",
     "output_type": "stream",
     "text": [
      "August 15th 1947\n"
     ]
    }
   ],
   "source": [
    "import regex as re\n",
    "string= \"On August 15th 1947 that India was declared independent from British colonialism, and the reins of control were handed over to the leaders of the Country.\"\n",
    "\n",
    "pattern= r'([A-Za-z]+) (\\d+[a-z]+) (\\d+)'\n",
    "match = re.search (pattern,string)\n",
    "print (match.group())"
   ]
  },
  {
   "cell_type": "markdown",
   "id": "14459c75",
   "metadata": {},
   "source": [
    "Q15:Write a Python program to search some literals strings in a string. "
   ]
  },
  {
   "cell_type": "code",
   "execution_count": 30,
   "id": "e32e7a7c",
   "metadata": {},
   "outputs": [
    {
     "name": "stdout",
     "output_type": "stream",
     "text": [
      "fox The quick brown fox jumps over the lazy dog.\n",
      "Matched\n",
      "dog The quick brown fox jumps over the lazy dog.\n",
      "Matched\n",
      "horse The quick brown fox jumps over the lazy dog.\n",
      "Not matched\n"
     ]
    }
   ],
   "source": [
    "patterns = [ 'fox', 'dog', 'horse' ]\n",
    "text = 'The quick brown fox jumps over the lazy dog.'\n",
    "for i in patterns:\n",
    "    print (i,text)\n",
    "    if re.search (i, text):\n",
    "        print ('Matched')\n",
    "    else:\n",
    "        print ('Not matched')\n",
    "    "
   ]
  },
  {
   "cell_type": "markdown",
   "id": "33b8e6d3",
   "metadata": {},
   "source": [
    "Q16:Write a Python program to search a literals string in a string and also find the location within the original string where the pattern occurs"
   ]
  },
  {
   "cell_type": "code",
   "execution_count": 33,
   "id": "1a69ad60",
   "metadata": {},
   "outputs": [
    {
     "name": "stdout",
     "output_type": "stream",
     "text": [
      "16 19\n"
     ]
    }
   ],
   "source": [
    "pattern = 'fox'\n",
    "text = 'The quick brown fox jumps over the lazy dog.'\n",
    "match = re.search(pattern, text)\n",
    "A=match.start()\n",
    "B=match.end()\n",
    "print (A,B)\n"
   ]
  },
  {
   "cell_type": "markdown",
   "id": "6675243f",
   "metadata": {},
   "source": [
    "Q17:Write a Python program to find the substrings within a string.Sample text : 'Python exercises, PHP exercises, C# exercises'"
   ]
  },
  {
   "cell_type": "code",
   "execution_count": 35,
   "id": "e57a3389",
   "metadata": {},
   "outputs": [
    {
     "name": "stdout",
     "output_type": "stream",
     "text": [
      "exercises\n",
      "exercises\n",
      "exercises\n"
     ]
    }
   ],
   "source": [
    "\n",
    "text='Python exercises, PHP exercises, C# exercises'\n",
    "Pattern ='exercises'\n",
    "for i in re.findall (Pattern,text):\n",
    "    print (i)\n"
   ]
  },
  {
   "cell_type": "markdown",
   "id": "73642652",
   "metadata": {},
   "source": [
    "Q19:Write a Python program to convert a date of yyyy-mm-dd format to dd-mm-yyyy format."
   ]
  },
  {
   "cell_type": "code",
   "execution_count": 45,
   "id": "26b6417e",
   "metadata": {},
   "outputs": [
    {
     "name": "stdout",
     "output_type": "stream",
     "text": [
      "13-10-2023\n"
     ]
    }
   ],
   "source": [
    "date= '2023-10-13'\n",
    "date_change=re.sub(r'(\\d{4})-(\\d{1,2})-(\\d{1,2})' , '\\\\3-\\\\2-\\\\1',date)\n",
    "print (date_change)"
   ]
  },
  {
   "cell_type": "markdown",
   "id": "c7c7a60d",
   "metadata": {},
   "source": [
    "Q20:Create a function in python to find all decimal numbers with a precision of 1 or 2 in a string. The use of the re.compile() method is mandatory.\n",
    "Sample Text: \"01.12 0132.123 2.31875 145.8 3.01 27.25 0.25\""
   ]
  },
  {
   "cell_type": "code",
   "execution_count": 49,
   "id": "a4b95228",
   "metadata": {},
   "outputs": [
    {
     "name": "stdout",
     "output_type": "stream",
     "text": [
      "['01.12', '145.8', '3.01', '27.25', '0.25']\n"
     ]
    }
   ],
   "source": [
    "text=\"01.12 0132.123 2.31875 145.8 3.01 27.25 0.25\"\n",
    "patten=r'\\b([0-9]+\\.[0-9]{1,2})\\b'\n",
    "match=re.findall(patten,text)\n",
    "print (match)\n"
   ]
  },
  {
   "cell_type": "markdown",
   "id": "68fc3dcc",
   "metadata": {},
   "source": [
    "Q21:Write a Python program to separate and print the numbers and their position of a given string."
   ]
  },
  {
   "cell_type": "code",
   "execution_count": 8,
   "id": "6229faab",
   "metadata": {},
   "outputs": [
    {
     "name": "stdout",
     "output_type": "stream",
     "text": [
      "4\n",
      "Index position: 25\n",
      "2\n",
      "Index position: 37\n"
     ]
    }
   ],
   "source": [
    "text=\"Every day i used to take 4 bananas & 2 apples\"\n",
    "for i in re.finditer(\"\\d+\",text):\n",
    "    print (i.group(0))\n",
    "    print (\"Index position:\", i.start())\n"
   ]
  },
  {
   "cell_type": "markdown",
   "id": "51b7458b",
   "metadata": {},
   "source": [
    "Q22:Write a regular expression in python program to extract maximum/largest numeric value from a string.\n",
    "Sample Text:  'My marks in each semester are: 947, 896, 926, 524, 734, 950, 642'"
   ]
  },
  {
   "cell_type": "code",
   "execution_count": 9,
   "id": "3b88a3a1",
   "metadata": {},
   "outputs": [
    {
     "name": "stdout",
     "output_type": "stream",
     "text": [
      "Max Value: 950\n"
     ]
    }
   ],
   "source": [
    "text=\"My marks in each semester are: 947, 896, 926, 524, 734, 950, 642\"\n",
    "number=re.findall(\"\\d+\",text)\n",
    "print (\"Max Value:\",max(number))\n"
   ]
  },
  {
   "cell_type": "code",
   "execution_count": 10,
   "id": "923398d8",
   "metadata": {},
   "outputs": [
    {
     "name": "stdout",
     "output_type": "stream",
     "text": [
      "['947', '896', '926', '524', '734', '950', '642']\n",
      "Max numaric value: 950\n"
     ]
    }
   ],
   "source": [
    "def extract_match (input):\n",
    "    mnumbers= re.findall (\"\\d+\",input)\n",
    "    print (mnumbers)\n",
    "    \n",
    "    print (\"Max numaric value:\", max(mnumbers))\n",
    "input = \"My marks in each semester are: 947, 896, 926, 524, 734, 950, 642\"\n",
    "extract_match (input)\n",
    "\n",
    "    \n",
    "    \n",
    "    "
   ]
  },
  {
   "cell_type": "markdown",
   "id": "e819b9b9",
   "metadata": {},
   "source": [
    "Q23:Create a function in python to insert spaces between words starting with capital letters.\n",
    "Sample Text: “RegularExpressionIsAnImportantTopicInPython\"\n"
   ]
  },
  {
   "cell_type": "code",
   "execution_count": 12,
   "id": "ff5a66b2",
   "metadata": {},
   "outputs": [
    {
     "name": "stdout",
     "output_type": "stream",
     "text": [
      "Regular Expression Is An Important Topic In Python\n"
     ]
    }
   ],
   "source": [
    "def putspace(string):\n",
    "    return re.sub(r\"(\\w)([A-Z])\",r\"\\1 \\2\", string)\n",
    "print(putspace(\"RegularExpressionIsAnImportantTopicInPython\"))"
   ]
  },
  {
   "cell_type": "markdown",
   "id": "3a2db9c9",
   "metadata": {},
   "source": [
    "Q24:Python regex to find sequences of one upper case letter followed by lower case letters"
   ]
  },
  {
   "cell_type": "code",
   "execution_count": 17,
   "id": "8f3c9cb9",
   "metadata": {},
   "outputs": [
    {
     "name": "stdout",
     "output_type": "stream",
     "text": [
      "Yes\n",
      "Yes\n",
      "Yes\n"
     ]
    }
   ],
   "source": [
    "def match(text):\n",
    "    pattern= r\"[A-z][a-z]+\"\n",
    "    if re.search (pattern, text):\n",
    "        return ('Yes')\n",
    "    else:\n",
    "        return ('No')\n",
    "    \n",
    "print (match(\"Welcome\"))\n",
    "print (match (\"WelcomeHomewelcome Hello Welcome\"))\n",
    "print (match (\"Welcome You\"))  "
   ]
  },
  {
   "cell_type": "markdown",
   "id": "c70d1c34",
   "metadata": {},
   "source": [
    "Q25:Write a Python program to remove continuous duplicate words from Sentence using Regular Expression.Sample Text: \"Hello hello world world\""
   ]
  },
  {
   "cell_type": "code",
   "execution_count": 27,
   "id": "755bbb22",
   "metadata": {},
   "outputs": [
    {
     "name": "stdout",
     "output_type": "stream",
     "text": [
      "Hello hello world\n",
      "Good bye world\n"
     ]
    }
   ],
   "source": [
    "def removeduplicatewords(string):\n",
    "    regex = r'\\b(\\w+)(?:\\W+\\1\\b)+'\n",
    "    return re.sub(regex, r'\\1', string)\n",
    "    \n",
    "    \n",
    "string=\"Hello hello world world\"\n",
    "print(removeduplicatewords(string))\n",
    "\n",
    "string=\"Good bye bye world world\"\n",
    "print(removeduplicatewords(string))\n",
    "\n",
    "    \n",
    "    "
   ]
  },
  {
   "cell_type": "markdown",
   "id": "37715b8f",
   "metadata": {},
   "source": [
    "Q26:-  Write a python program using RegEx to accept string ending with alphanumeric character."
   ]
  },
  {
   "cell_type": "code",
   "execution_count": 30,
   "id": "4131e2ee",
   "metadata": {},
   "outputs": [
    {
     "name": "stdout",
     "output_type": "stream",
     "text": [
      "The string is not ending with an alphanumeric character.\n",
      "The string is ending with an alphanumeric character.\n",
      "The string is not ending with an alphanumeric character.\n",
      "The string is ending with an alphanumeric character.\n"
     ]
    }
   ],
   "source": [
    "def check_alpha_numaric(string):\n",
    "    pattern=r'[A-Za-z0-9]$'\n",
    "    if (re.search(pattern,string)):\n",
    "        print(\"The string is ending with an alphanumeric character.\")\n",
    "    else:\n",
    "        print(\"The string is not ending with an alphanumeric character.\")\n",
    "        \n",
    "        \n",
    "check_alpha_numaric(\"pitchumca@\")\n",
    "check_alpha_numaric(\"pitchumca123\")\n",
    "check_alpha_numaric(\"pitchum.\")\n",
    "check_alpha_numaric(\"staysafeindistancestay\")"
   ]
  },
  {
   "cell_type": "markdown",
   "id": "b30cbfcb",
   "metadata": {},
   "source": [
    "Q27:Write a python program using RegEx to extract the hashtags."
   ]
  },
  {
   "cell_type": "code",
   "execution_count": 34,
   "id": "32a6dd31",
   "metadata": {},
   "outputs": [
    {
     "name": "stdout",
     "output_type": "stream",
     "text": [
      "Text:\n",
      " RT @kapil_kausik: #Doltiwal I mean #xyzabc is \"hurt\" by #Demonetization as the same has rendered USELESS <ed><U+00A0><U+00BD><ed><U+00B1><U+0089> \"acquired funds\" No wo\n",
      "Hastags:\n",
      " ['#Doltiwal', '#xyzabc', '#Demonetization']\n"
     ]
    }
   ],
   "source": [
    "text=\"\"\"RT @kapil_kausik: #Doltiwal I mean #xyzabc is \"hurt\" by #Demonetization as the same has rendered USELESS <ed><U+00A0><U+00BD><ed><U+00B1><U+0089> \"acquired funds\" No wo\"\"\"\n",
    "hastags=re.findall(r\"#\\w+\", text)\n",
    "print (\"Text:\\n\", text)\n",
    "print (\"Hastags:\\n\", hastags)"
   ]
  },
  {
   "cell_type": "markdown",
   "id": "97be4d56",
   "metadata": {},
   "source": [
    "Q28:Write a python program using RegEx to remove <U+..> like symbols"
   ]
  },
  {
   "cell_type": "code",
   "execution_count": 36,
   "id": "1f9b6ff9",
   "metadata": {},
   "outputs": [
    {
     "name": "stdout",
     "output_type": "stream",
     "text": [
      "@Jags123456 Bharat band on 28??<ed>  <ed>  Those who  are protesting #demonetization  are all different party leaders\n"
     ]
    }
   ],
   "source": [
    "text= \"@Jags123456 Bharat band on 28??<ed><U+00A0><U+00BD><ed><U+00B8><U+0082>Those who  are protesting #demonetization  are all different party leaders\"\n",
    "pattern= r\"<U\\+[A-Z0-9]+>\"\n",
    "remove=re.sub (pattern,\" \",text)\n",
    "print (remove)\n",
    "\n"
   ]
  },
  {
   "cell_type": "markdown",
   "id": "b2ba6737",
   "metadata": {},
   "source": [
    "Q29:Write a python program to extract dates from the text stored in the text file."
   ]
  },
  {
   "cell_type": "code",
   "execution_count": 39,
   "id": "29d7ffe1",
   "metadata": {},
   "outputs": [
    {
     "name": "stdout",
     "output_type": "stream",
     "text": [
      "['12-09-1992', '15-12-1999']\n"
     ]
    }
   ],
   "source": [
    "text=\"Ron was born on 12-09-1992 and he was admitted to school 15-12-1999.\"\n",
    "pattern= r'\\d{1,2}-\\d{1,2}-\\d{4}'\n",
    "match=re.findall(pattern, text)\n",
    "print (match)"
   ]
  },
  {
   "cell_type": "markdown",
   "id": "1cb8c352",
   "metadata": {},
   "source": [
    "Q30:Create a function in python to remove all words from a string of length between 2 and 4."
   ]
  },
  {
   "cell_type": "code",
   "execution_count": 40,
   "id": "22c5751b",
   "metadata": {},
   "outputs": [
    {
     "name": "stdout",
     "output_type": "stream",
     "text": [
      "      world world\n"
     ]
    }
   ],
   "source": [
    "def remove_words(string):\n",
    "    shortword=re.compile(r'\\b\\w{2,4}\\b')\n",
    "    print (shortword.sub(\" \",string))\n",
    "    \n",
    "String = \"The following example creates an ArrayList with a capacity of 50 elements. 4 elements are then added to the ArrayList and the ArrayList is trimmed accordingly.\"\n",
    "remove_words(string)"
   ]
  }
 ],
 "metadata": {
  "kernelspec": {
   "display_name": "Python 3 (ipykernel)",
   "language": "python",
   "name": "python3"
  },
  "language_info": {
   "codemirror_mode": {
    "name": "ipython",
    "version": 3
   },
   "file_extension": ".py",
   "mimetype": "text/x-python",
   "name": "python",
   "nbconvert_exporter": "python",
   "pygments_lexer": "ipython3",
   "version": "3.11.4"
  },
  "varInspector": {
   "cols": {
    "lenName": 16,
    "lenType": 16,
    "lenVar": 40
   },
   "kernels_config": {
    "python": {
     "delete_cmd_postfix": "",
     "delete_cmd_prefix": "del ",
     "library": "var_list.py",
     "varRefreshCmd": "print(var_dic_list())"
    },
    "r": {
     "delete_cmd_postfix": ") ",
     "delete_cmd_prefix": "rm(",
     "library": "var_list.r",
     "varRefreshCmd": "cat(var_dic_list()) "
    }
   },
   "types_to_exclude": [
    "module",
    "function",
    "builtin_function_or_method",
    "instance",
    "_Feature"
   ],
   "window_display": false
  }
 },
 "nbformat": 4,
 "nbformat_minor": 5
}
