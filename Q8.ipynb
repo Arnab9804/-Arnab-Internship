{
 "cells": [
  {
   "cell_type": "code",
   "execution_count": 1,
   "id": "16b1b9cc",
   "metadata": {},
   "outputs": [],
   "source": [
    "import selenium\n",
    "from selenium import webdriver\n",
    "from selenium.webdriver.common.by import By\n",
    "from selenium.common.exceptions import StaleElementReferenceException,NoSuchElementException\n",
    "from bs4 import BeautifulSoup\n",
    "import requests\n",
    "import time"
   ]
  },
  {
   "cell_type": "code",
   "execution_count": 2,
   "id": "244c9322",
   "metadata": {},
   "outputs": [],
   "source": [
    "driver=webdriver.Chrome()\n",
    "driver.get('https://www.youtube.com/watch?v=8D_ItZBvbmk')\n",
    "time.sleep(2)"
   ]
  },
  {
   "cell_type": "code",
   "execution_count": 8,
   "id": "a1d885f7",
   "metadata": {},
   "outputs": [],
   "source": [
    "Account=[]\n",
    "comments=[]\n",
    "post_time=[]\n",
    "\n",
    "try:\n",
    "    \n",
    "    Account_tag=driver.find_elements(By.XPATH,'//span[@class=\" style-scope ytd-comment-renderer style-scope ytd-comment-renderer\"]')\n",
    "    for i in Account_tag[0:500]:\n",
    "        Account.append(i.text)\n",
    "        \n",
    "    comments_tag=driver.find_elements(By.ID,'content-text')\n",
    "    for i in comments_tag[0:500]:\n",
    "        comments.append(i.text)\n",
    "        \n",
    "    Post_time_tag=driver.find_elements(By.XPATH,'//yt-formatted-string[@class=\"published-time-text style-scope ytd-comment-renderer\"]/a')\n",
    "    for i in Post_time_tag[0:500]:\n",
    "        post_time.append(i.text)\n",
    "        \n",
    "        \n",
    "        \n",
    "    \n",
    "        \n",
    "except Exceptionas as e:\n",
    "    Account.append('No accounnt Found')\n",
    "    comments.append('No Comments')\n",
    "    post_time.append('No Post Time Found')\n",
    "    \n",
    "    \n",
    "        \n"
   ]
  },
  {
   "cell_type": "code",
   "execution_count": 10,
   "id": "36e15d96",
   "metadata": {},
   "outputs": [],
   "source": [
    "import pandas as pd"
   ]
  },
  {
   "cell_type": "code",
   "execution_count": 11,
   "id": "1aa9aaae",
   "metadata": {},
   "outputs": [
    {
     "data": {
      "text/html": [
       "<div>\n",
       "<style scoped>\n",
       "    .dataframe tbody tr th:only-of-type {\n",
       "        vertical-align: middle;\n",
       "    }\n",
       "\n",
       "    .dataframe tbody tr th {\n",
       "        vertical-align: top;\n",
       "    }\n",
       "\n",
       "    .dataframe thead th {\n",
       "        text-align: right;\n",
       "    }\n",
       "</style>\n",
       "<table border=\"1\" class=\"dataframe\">\n",
       "  <thead>\n",
       "    <tr style=\"text-align: right;\">\n",
       "      <th></th>\n",
       "      <th>Account</th>\n",
       "      <th>comments</th>\n",
       "      <th>post_time</th>\n",
       "    </tr>\n",
       "  </thead>\n",
       "  <tbody>\n",
       "    <tr>\n",
       "      <th>0</th>\n",
       "      <td>@nirupamasharma6901</td>\n",
       "      <td>Drop your responses here: https://forms.gle/tM...</td>\n",
       "      <td>6 months ago</td>\n",
       "    </tr>\n",
       "    <tr>\n",
       "      <th>1</th>\n",
       "      <td>@udemeedet7603</td>\n",
       "      <td>0:00 Intro\\n1:37 1) Jumping Jack\\n2:40 2) Leg ...</td>\n",
       "      <td>2 years ago (edited)</td>\n",
       "    </tr>\n",
       "    <tr>\n",
       "      <th>2</th>\n",
       "      <td>@xpoz9634</td>\n",
       "      <td>Today is my six days trying this every morning...</td>\n",
       "      <td>1 year ago</td>\n",
       "    </tr>\n",
       "    <tr>\n",
       "      <th>3</th>\n",
       "      <td>@Jbuckkz</td>\n",
       "      <td>0:00 Intro\\n\\n1:37 1) Jumping Jack\\n\\n2:40 2) ...</td>\n",
       "      <td>1 year ago</td>\n",
       "    </tr>\n",
       "    <tr>\n",
       "      <th>4</th>\n",
       "      <td>@chicocash</td>\n",
       "      <td>Close to week 4 of this core workout! Haven’t ...</td>\n",
       "      <td>10 months ago</td>\n",
       "    </tr>\n",
       "    <tr>\n",
       "      <th>...</th>\n",
       "      <td>...</td>\n",
       "      <td>...</td>\n",
       "      <td>...</td>\n",
       "    </tr>\n",
       "    <tr>\n",
       "      <th>495</th>\n",
       "      <td>@richarddavies2380</td>\n",
       "      <td>Hello sir, your given exercise is very effecti...</td>\n",
       "      <td>1 year ago</td>\n",
       "    </tr>\n",
       "    <tr>\n",
       "      <th>496</th>\n",
       "      <td>@user-od1ml7qy3f</td>\n",
       "      <td>Best abs exercise i have seen on YouTube</td>\n",
       "      <td>3 months ago</td>\n",
       "    </tr>\n",
       "    <tr>\n",
       "      <th>497</th>\n",
       "      <td>@aymantowhid6311</td>\n",
       "      <td>In the event of limited time, how can one rati...</td>\n",
       "      <td>2 years ago (edited)</td>\n",
       "    </tr>\n",
       "    <tr>\n",
       "      <th>498</th>\n",
       "      <td>@inspiremedia8602</td>\n",
       "      <td>This was my first day . I am 15 years old but ...</td>\n",
       "      <td>11 days ago</td>\n",
       "    </tr>\n",
       "    <tr>\n",
       "      <th>499</th>\n",
       "      <td>@composurdadon3355</td>\n",
       "      <td>Going to do this for 2weeks. If i see any chan...</td>\n",
       "      <td>2 years ago</td>\n",
       "    </tr>\n",
       "  </tbody>\n",
       "</table>\n",
       "<p>500 rows × 3 columns</p>\n",
       "</div>"
      ],
      "text/plain": [
       "                 Account                                           comments  \\\n",
       "0    @nirupamasharma6901  Drop your responses here: https://forms.gle/tM...   \n",
       "1         @udemeedet7603  0:00 Intro\\n1:37 1) Jumping Jack\\n2:40 2) Leg ...   \n",
       "2              @xpoz9634  Today is my six days trying this every morning...   \n",
       "3               @Jbuckkz  0:00 Intro\\n\\n1:37 1) Jumping Jack\\n\\n2:40 2) ...   \n",
       "4             @chicocash  Close to week 4 of this core workout! Haven’t ...   \n",
       "..                   ...                                                ...   \n",
       "495   @richarddavies2380  Hello sir, your given exercise is very effecti...   \n",
       "496     @user-od1ml7qy3f           Best abs exercise i have seen on YouTube   \n",
       "497     @aymantowhid6311  In the event of limited time, how can one rati...   \n",
       "498    @inspiremedia8602  This was my first day . I am 15 years old but ...   \n",
       "499   @composurdadon3355  Going to do this for 2weeks. If i see any chan...   \n",
       "\n",
       "                post_time  \n",
       "0            6 months ago  \n",
       "1    2 years ago (edited)  \n",
       "2              1 year ago  \n",
       "3              1 year ago  \n",
       "4           10 months ago  \n",
       "..                    ...  \n",
       "495            1 year ago  \n",
       "496          3 months ago  \n",
       "497  2 years ago (edited)  \n",
       "498           11 days ago  \n",
       "499           2 years ago  \n",
       "\n",
       "[500 rows x 3 columns]"
      ]
     },
     "execution_count": 11,
     "metadata": {},
     "output_type": "execute_result"
    }
   ],
   "source": [
    "df=pd.DataFrame({'Account':Account,'comments':comments,'post_time':post_time})\n",
    "df"
   ]
  },
  {
   "cell_type": "code",
   "execution_count": null,
   "id": "15323413",
   "metadata": {},
   "outputs": [],
   "source": []
  }
 ],
 "metadata": {
  "kernelspec": {
   "display_name": "Python 3 (ipykernel)",
   "language": "python",
   "name": "python3"
  },
  "language_info": {
   "codemirror_mode": {
    "name": "ipython",
    "version": 3
   },
   "file_extension": ".py",
   "mimetype": "text/x-python",
   "name": "python",
   "nbconvert_exporter": "python",
   "pygments_lexer": "ipython3",
   "version": "3.11.4"
  },
  "varInspector": {
   "cols": {
    "lenName": 16,
    "lenType": 16,
    "lenVar": 40
   },
   "kernels_config": {
    "python": {
     "delete_cmd_postfix": "",
     "delete_cmd_prefix": "del ",
     "library": "var_list.py",
     "varRefreshCmd": "print(var_dic_list())"
    },
    "r": {
     "delete_cmd_postfix": ") ",
     "delete_cmd_prefix": "rm(",
     "library": "var_list.r",
     "varRefreshCmd": "cat(var_dic_list()) "
    }
   },
   "types_to_exclude": [
    "module",
    "function",
    "builtin_function_or_method",
    "instance",
    "_Feature"
   ],
   "window_display": false
  }
 },
 "nbformat": 4,
 "nbformat_minor": 5
}
