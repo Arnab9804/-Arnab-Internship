{
 "cells": [
  {
   "cell_type": "code",
   "execution_count": 1,
   "id": "e8815995",
   "metadata": {},
   "outputs": [],
   "source": [
    "import selenium\n",
    "from selenium import webdriver\n",
    "from selenium.webdriver.common.by import By\n",
    "from selenium.common.exceptions import StaleElementReferenceException,NoSuchElementException\n",
    "from bs4 import BeautifulSoup\n",
    "import requests\n",
    "import time"
   ]
  },
  {
   "cell_type": "code",
   "execution_count": 2,
   "id": "7961e6b8",
   "metadata": {},
   "outputs": [],
   "source": [
    "driver=webdriver.Chrome()\n",
    "\n",
    "driver.get('https://www.google.com/')\n",
    "\n",
    "time.sleep(3)"
   ]
  },
  {
   "cell_type": "code",
   "execution_count": 3,
   "id": "42de707b",
   "metadata": {},
   "outputs": [],
   "source": [
    "Seach_item=driver.find_element(By.XPATH,'//*[@id=\"APjFqb\"]')\n",
    "Seach_item.send_keys('Kolkata latitude, longitude')"
   ]
  },
  {
   "cell_type": "code",
   "execution_count": 4,
   "id": "f75c04d3",
   "metadata": {},
   "outputs": [],
   "source": [
    "Google_Search=driver.find_element(By.XPATH,'/html/body/div[1]/div[3]/form/div[1]/div[1]/div[2]/div[2]/div[5]/center/input[1]')\n",
    "Google_Search.click()"
   ]
  },
  {
   "cell_type": "code",
   "execution_count": 5,
   "id": "bc1cf160",
   "metadata": {},
   "outputs": [],
   "source": [
    "latitude_longitude=[]\n",
    "\n",
    "try:\n",
    "    latitude_longitude_tag=driver.find_elements(By.XPATH,'//div[@class=\"Z0LcW t2b5Cf\"]')\n",
    "    for i in latitude_longitude_tag:\n",
    "        latitude_longitude.append(i.text)\n",
    "        \n",
    "except Exception as e:\n",
    "    latitude_longitude.append('No information')\n",
    "    \n",
    "    \n",
    "        "
   ]
  },
  {
   "cell_type": "code",
   "execution_count": 6,
   "id": "1879d712",
   "metadata": {},
   "outputs": [
    {
     "name": "stdout",
     "output_type": "stream",
     "text": [
      "['22.5726° N, 88.3639° E']\n"
     ]
    }
   ],
   "source": [
    "print (latitude_longitude)"
   ]
  },
  {
   "cell_type": "code",
   "execution_count": null,
   "id": "90a0d97b",
   "metadata": {},
   "outputs": [],
   "source": []
  }
 ],
 "metadata": {
  "kernelspec": {
   "display_name": "Python 3 (ipykernel)",
   "language": "python",
   "name": "python3"
  },
  "language_info": {
   "codemirror_mode": {
    "name": "ipython",
    "version": 3
   },
   "file_extension": ".py",
   "mimetype": "text/x-python",
   "name": "python",
   "nbconvert_exporter": "python",
   "pygments_lexer": "ipython3",
   "version": "3.11.4"
  },
  "varInspector": {
   "cols": {
    "lenName": 16,
    "lenType": 16,
    "lenVar": 40
   },
   "kernels_config": {
    "python": {
     "delete_cmd_postfix": "",
     "delete_cmd_prefix": "del ",
     "library": "var_list.py",
     "varRefreshCmd": "print(var_dic_list())"
    },
    "r": {
     "delete_cmd_postfix": ") ",
     "delete_cmd_prefix": "rm(",
     "library": "var_list.r",
     "varRefreshCmd": "cat(var_dic_list()) "
    }
   },
   "types_to_exclude": [
    "module",
    "function",
    "builtin_function_or_method",
    "instance",
    "_Feature"
   ],
   "window_display": false
  }
 },
 "nbformat": 4,
 "nbformat_minor": 5
}
