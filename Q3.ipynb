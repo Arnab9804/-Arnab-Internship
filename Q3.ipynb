{
 "cells": [
  {
   "cell_type": "code",
   "execution_count": 1,
   "id": "cd0b1a63",
   "metadata": {},
   "outputs": [],
   "source": [
    "import selenium\n",
    "from selenium import webdriver\n",
    "from selenium.webdriver.common.by import By\n",
    "from selenium.common.exceptions import NoSuchElementException,StaleElementReferenceException\n",
    "import requests\n",
    "from bs4 import BeautifulSoup\n",
    "\n",
    "import time\n",
    "import pandas as pd"
   ]
  },
  {
   "cell_type": "code",
   "execution_count": 28,
   "id": "3671f700",
   "metadata": {},
   "outputs": [
    {
     "name": "stdout",
     "output_type": "stream",
     "text": [
      "Enter Your Search Item:Fruit\n"
     ]
    }
   ],
   "source": [
    "Search_Item=input(\"Enter Your Search Item:\")\n",
    "\n",
    "driver=webdriver.Chrome()\n",
    "driver.get('https://www.google.com/')\n",
    "time.sleep(2)\n",
    "\n"
   ]
  },
  {
   "cell_type": "code",
   "execution_count": 29,
   "id": "3dc7dd19",
   "metadata": {},
   "outputs": [],
   "source": [
    "Search_Bar=driver.find_element(By.XPATH,'/html/body/div[1]/div[3]/form/div[1]/div[1]/div[1]/div/div[2]/textarea').send_keys(Search_Item)"
   ]
  },
  {
   "cell_type": "code",
   "execution_count": 30,
   "id": "be63b958",
   "metadata": {},
   "outputs": [],
   "source": [
    "click=driver.find_element(By.XPATH,'/html/body/div[1]/div[3]/form/div[1]/div[1]/div[4]/center/input[1]')\n",
    "click.click()\n"
   ]
  },
  {
   "cell_type": "code",
   "execution_count": 31,
   "id": "5d799ed3",
   "metadata": {},
   "outputs": [],
   "source": [
    "Image_click=driver.find_element(By.XPATH,'//div[@class=\"GKS7s\"]')\n",
    "Image_click.click()\n"
   ]
  },
  {
   "cell_type": "code",
   "execution_count": 36,
   "id": "4c6d7c5e",
   "metadata": {},
   "outputs": [],
   "source": [
    "image_url=[]\n",
    "\n",
    "try:\n",
    "    image_url_tag=driver.find_elements(By.XPATH,'//div[@class=\"jCaeMe nMN3Nd pla-unit\"]/a')\n",
    "    \n",
    "    for i in image_url_tag[0:10]:\n",
    "        image_url.append(i.get_attribute('href'))\n",
    "        \n",
    "except Exception as e:\n",
    "    image_url.append('No Images')\n",
    "    \n",
    "        "
   ]
  },
  {
   "cell_type": "code",
   "execution_count": 37,
   "id": "8e7d02b2",
   "metadata": {},
   "outputs": [
    {
     "data": {
      "text/plain": [
       "10"
      ]
     },
     "execution_count": 37,
     "metadata": {},
     "output_type": "execute_result"
    }
   ],
   "source": [
    "len(image_url)"
   ]
  },
  {
   "cell_type": "code",
   "execution_count": 35,
   "id": "93143863",
   "metadata": {},
   "outputs": [
    {
     "data": {
      "text/plain": [
       "['https://www.google.com/aclk?sa=l&ai=DChcSEwjN2OKQl7eCAxVZ9EwCHV-iAysYABABGgJ0bQ&ase=2&gclid=EAIaIQobChMIzdjikJe3ggMVWfRMAh1fogMrEAQYASABEgJSA_D_BwE&sig=AOD64_2nY9X6Qm3amkhH35E3XrCSo5zQdw&ctype=5&nis=5&adurl&ved=2ahUKEwjundWQl7eCAxVZ5DgGHWw6DVYQwg96BAgBEHU',\n",
       " 'https://www.bigbasket.com/pd/10000560/fresho-kiwi-green-1-pc/?z=MzE0OTkyNTYwMA&utm_source=google&utm_medium=cpc&utm_campaign=Kolkata-PLA/',\n",
       " 'https://www.bigbasket.com/pd/30001645/fresho-apple-kashmir-1-kg/?z=MzE0OTkyNTYwMA&utm_source=google&utm_medium=cpc&utm_campaign=Kolkata-PLA/',\n",
       " 'https://www.bigbasket.com/pd/40023482/fresho-watermelon-organically-grown-1-pc-approx-1-3-kg/?z=MzE0OTkyNTYwMA&utm_source=google&utm_medium=cpc&utm_campaign=Kolkata-PLA/',\n",
       " 'https://www.bigbasket.com/pd/30001528/fresho-persimmon-amarphal-1-kg/?z=MzE0OTkyNTYwMA&utm_source=google&utm_medium=cpc&utm_campaign=Kolkata-PLA/',\n",
       " 'https://www.bigbasket.com/pd/20003956/fresho-baby-orange-500-g/?z=MzE0OTkyNTYwMA&utm_source=google&utm_medium=cpc&utm_campaign=Kolkata-PLA/',\n",
       " 'https://www.bigbasket.com/pd/30007415/fresho-plum-imported-250-g/?z=MzE0OTkyNTYwMA&utm_source=google&utm_medium=cpc&utm_campaign=Kolkata-PLA/',\n",
       " 'https://www.bigbasket.com/pd/40022638/fresho-tomato-local-organically-grown-500-g/?z=MzE0OTkyNTYwMA&utm_source=google&utm_medium=cpc&utm_campaign=Kolkata-PLA/',\n",
       " 'https://www.bigbasket.com/pd/20001194/fresho-pumpkin-green-250-g/?z=MzE0OTkyNTYwMA&utm_source=google&utm_medium=cpc&utm_campaign=Kolkata-PLA/',\n",
       " 'https://www.bigbasket.com/pd/30009284/fresho-avocado-imported-medium-1-pc/?z=MzE0OTkyNTYwMA&utm_source=google&utm_medium=cpc&utm_campaign=Kolkata-PLA/',\n",
       " 'https://www.bigbasket.com/pd/40113536/fresho-dragon-fruit-red-flesh-1-pc/?z=MzE0OTkyNTYwMA&utm_source=google&utm_medium=cpc&utm_campaign=Kolkata-PLA/']"
      ]
     },
     "execution_count": 35,
     "metadata": {},
     "output_type": "execute_result"
    }
   ],
   "source": [
    "image_url"
   ]
  },
  {
   "cell_type": "code",
   "execution_count": 39,
   "id": "04dc9f25",
   "metadata": {},
   "outputs": [],
   "source": [
    "driver.back()"
   ]
  },
  {
   "cell_type": "code",
   "execution_count": 40,
   "id": "8c05e3ac",
   "metadata": {},
   "outputs": [
    {
     "name": "stdout",
     "output_type": "stream",
     "text": [
      "Enter Your Search Item:Cars\n"
     ]
    }
   ],
   "source": [
    "Search_Item=input(\"Enter Your Search Item:\")\n",
    "\n",
    "Search_Bar=driver.find_element(By.XPATH,'/html/body/div[1]/div[3]/form/div[1]/div[1]/div[1]/div/div[2]/textarea').send_keys(Search_Item)"
   ]
  },
  {
   "cell_type": "code",
   "execution_count": 42,
   "id": "bb6d4c27",
   "metadata": {},
   "outputs": [],
   "source": [
    "click=driver.find_element(By.XPATH,'/html/body/div[1]/div[3]/form/div[1]/div[1]/div[4]/center/input[1]')\n",
    "click.click()"
   ]
  },
  {
   "cell_type": "code",
   "execution_count": 43,
   "id": "48c834aa",
   "metadata": {},
   "outputs": [],
   "source": [
    "Image_click=driver.find_element(By.XPATH,'//div[@class=\"GKS7s\"]')\n",
    "Image_click.click()"
   ]
  },
  {
   "cell_type": "code",
   "execution_count": 68,
   "id": "186dd97e",
   "metadata": {},
   "outputs": [],
   "source": [
    "Car_image_url=[]\n",
    "\n",
    "try:\n",
    "\n",
    "    url_tag=driver.find_elements(By.XPATH,'//div[@class=\"fR600b islir\"]/img')\n",
    "    \n",
    "    for i in url_tag[0:10]:\n",
    "        Car_image_url.append(i.get_attribute('src'))\n",
    "        \n",
    "except Exception as e:\n",
    "    Car_image_url.append('No images')\n",
    "    \n",
    "    "
   ]
  },
  {
   "cell_type": "code",
   "execution_count": 69,
   "id": "9aa500ad",
   "metadata": {},
   "outputs": [
    {
     "data": {
      "text/plain": [
       "10"
      ]
     },
     "execution_count": 69,
     "metadata": {},
     "output_type": "execute_result"
    }
   ],
   "source": [
    "len(Car_image_url)"
   ]
  },
  {
   "cell_type": "code",
   "execution_count": 76,
   "id": "6c7380a7",
   "metadata": {},
   "outputs": [],
   "source": [
    "driver.back()"
   ]
  },
  {
   "cell_type": "code",
   "execution_count": null,
   "id": "422153f9",
   "metadata": {},
   "outputs": [],
   "source": []
  }
 ],
 "metadata": {
  "kernelspec": {
   "display_name": "Python 3 (ipykernel)",
   "language": "python",
   "name": "python3"
  },
  "language_info": {
   "codemirror_mode": {
    "name": "ipython",
    "version": 3
   },
   "file_extension": ".py",
   "mimetype": "text/x-python",
   "name": "python",
   "nbconvert_exporter": "python",
   "pygments_lexer": "ipython3",
   "version": "3.11.4"
  },
  "varInspector": {
   "cols": {
    "lenName": 16,
    "lenType": 16,
    "lenVar": 40
   },
   "kernels_config": {
    "python": {
     "delete_cmd_postfix": "",
     "delete_cmd_prefix": "del ",
     "library": "var_list.py",
     "varRefreshCmd": "print(var_dic_list())"
    },
    "r": {
     "delete_cmd_postfix": ") ",
     "delete_cmd_prefix": "rm(",
     "library": "var_list.r",
     "varRefreshCmd": "cat(var_dic_list()) "
    }
   },
   "types_to_exclude": [
    "module",
    "function",
    "builtin_function_or_method",
    "instance",
    "_Feature"
   ],
   "window_display": false
  }
 },
 "nbformat": 4,
 "nbformat_minor": 5
}
