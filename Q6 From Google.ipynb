{
 "cells": [
  {
   "cell_type": "code",
   "execution_count": 1,
   "id": "9be3bd49",
   "metadata": {},
   "outputs": [],
   "source": [
    "import selenium\n",
    "from selenium import webdriver\n",
    "from selenium.webdriver.common.by import By\n",
    "from selenium.common.exceptions import StaleElementReferenceException,NoSuchElementException\n",
    "from bs4 import BeautifulSoup\n",
    "import requests\n",
    "import time"
   ]
  },
  {
   "cell_type": "code",
   "execution_count": 2,
   "id": "ad567afa",
   "metadata": {},
   "outputs": [],
   "source": [
    "driver=webdriver.Chrome()\n",
    "\n",
    "driver.get('https://www.google.com/')\n",
    "\n",
    "time.sleep(3)"
   ]
  },
  {
   "cell_type": "code",
   "execution_count": 3,
   "id": "c8a04053",
   "metadata": {},
   "outputs": [],
   "source": [
    "Search_input=driver.find_element(By.XPATH,'//*[@id=\"APjFqb\"]')\n",
    "Search_input.send_keys('Top 10 best laptops')\n"
   ]
  },
  {
   "cell_type": "code",
   "execution_count": 4,
   "id": "120ff2bc",
   "metadata": {},
   "outputs": [],
   "source": [
    "Search_click=driver.find_element(By.XPATH,'/html/body/div[1]/div[3]/form/div[1]/div[1]/div[2]/div[2]/div[5]/center/input[1]')\n",
    "Search_click.click()"
   ]
  },
  {
   "cell_type": "code",
   "execution_count": 6,
   "id": "5958802f",
   "metadata": {},
   "outputs": [],
   "source": [
    "First_link=driver.find_element(By.XPATH,'//*[@id=\"rso\"]/div[1]/div/div/div/div[1]/div/div/span/a')\n",
    "First_link.click()\n"
   ]
  },
  {
   "cell_type": "code",
   "execution_count": 9,
   "id": "187aaff1",
   "metadata": {},
   "outputs": [],
   "source": [
    "Laptop_List=[]\n",
    "Laptop_Description=[]\n",
    "\n",
    "try:\n",
    "    Laptop_List_tag=driver.find_elements(By.XPATH,'//h3[@class=\"duet--article--dangerously-set-cms-markup duet--article--standard-heading mb-20 mt-40 font-polysans text-26 font-medium leading-110 selection:bg-franklin-20 dark:text-white dark:selection:bg-blurple md:text-30 [&>a:hover]:shadow-highlight-franklin dark:[&>a:hover]:shadow-highlight-franklin [&>a]:shadow-underline-black dark:[&>a]:shadow-underline-white\"]')\n",
    "    for i in Laptop_List_tag[0:10]:\n",
    "        Laptop_List.append(i.text)\n",
    "        \n",
    "    Laptop_Description_tag=driver.find_elements(By.XPATH,'//p[@class=\"duet--article--dangerously-set-cms-markup duet--article--standard-paragraph mb-20 font-fkroman text-18 leading-160 -tracking-1 selection:bg-franklin-20 dark:text-white dark:selection:bg-blurple [&_a:hover]:shadow-highlight-franklin dark:[&_a:hover]:shadow-highlight-blurple [&_a]:shadow-underline-black dark:[&_a]:shadow-underline-white\"]/small/em')\n",
    "    for i in Laptop_Description_tag[0:10]:\n",
    "        Laptop_Description.append(i.text)\n",
    "        \n",
    "        \n",
    "    \n",
    "        \n",
    "except Exception as e:\n",
    "    Laptop_List.append('No Information')\n",
    "    Laptop_Description.append('No Information')\n",
    "    \n",
    "        "
   ]
  },
  {
   "cell_type": "code",
   "execution_count": 10,
   "id": "f7f9021c",
   "metadata": {},
   "outputs": [
    {
     "data": {
      "text/plain": [
       "10"
      ]
     },
     "execution_count": 10,
     "metadata": {},
     "output_type": "execute_result"
    }
   ],
   "source": [
    "len(Laptop_Description)"
   ]
  },
  {
   "cell_type": "code",
   "execution_count": 11,
   "id": "e12ed621",
   "metadata": {},
   "outputs": [],
   "source": [
    "import pandas as pd "
   ]
  },
  {
   "cell_type": "code",
   "execution_count": 12,
   "id": "e0bbe9de",
   "metadata": {},
   "outputs": [
    {
     "data": {
      "text/html": [
       "<div>\n",
       "<style scoped>\n",
       "    .dataframe tbody tr th:only-of-type {\n",
       "        vertical-align: middle;\n",
       "    }\n",
       "\n",
       "    .dataframe tbody tr th {\n",
       "        vertical-align: top;\n",
       "    }\n",
       "\n",
       "    .dataframe thead th {\n",
       "        text-align: right;\n",
       "    }\n",
       "</style>\n",
       "<table border=\"1\" class=\"dataframe\">\n",
       "  <thead>\n",
       "    <tr style=\"text-align: right;\">\n",
       "      <th></th>\n",
       "      <th>Laptop_List</th>\n",
       "      <th>Laptop_Description</th>\n",
       "    </tr>\n",
       "  </thead>\n",
       "  <tbody>\n",
       "    <tr>\n",
       "      <th>0</th>\n",
       "      <td>1. Apple MacBook Air (M2)\\n↴</td>\n",
       "      <td>CPU: M2 / GPU: M2/ RAM: 8GB, 16GB, 24GB / Stor...</td>\n",
       "    </tr>\n",
       "    <tr>\n",
       "      <th>1</th>\n",
       "      <td>2. MacBook Pro (14-inch and 16-inch)\\n↴</td>\n",
       "      <td>CPU: M1 Pro, M1 Max / GPU: M1 Pro, M1 Max / RA...</td>\n",
       "    </tr>\n",
       "    <tr>\n",
       "      <th>2</th>\n",
       "      <td>3. Asus Zenbook Pro Duo 14\\n↴</td>\n",
       "      <td>CPU: Intel Core i9-13900H / GPU: Nvidia Geforc...</td>\n",
       "    </tr>\n",
       "    <tr>\n",
       "      <th>3</th>\n",
       "      <td>4. Asus ROG Zephyrus G14\\n↴</td>\n",
       "      <td>CPU: AMD Ryzen 9 6900HS / GPU: AMD Radeon RX 6...</td>\n",
       "    </tr>\n",
       "    <tr>\n",
       "      <th>4</th>\n",
       "      <td>5. Asus Chromebook Flip CX5\\n↴</td>\n",
       "      <td>CPU: Intel Core i5-1135G7 / GPU: Intel Iris Xe...</td>\n",
       "    </tr>\n",
       "    <tr>\n",
       "      <th>5</th>\n",
       "      <td>6. MacBook Pro 16 (M2 Pro and M2 Max)\\n↴</td>\n",
       "      <td>CPU: M2 Pro, M2 Max / GPU: M2 Pro, M2 Max / RA...</td>\n",
       "    </tr>\n",
       "    <tr>\n",
       "      <th>6</th>\n",
       "      <td>7. MacBook Air 15\\n↴</td>\n",
       "      <td>CPU: M2 / GPU: M2 / RAM: 16GB, 16GB, 24GB / St...</td>\n",
       "    </tr>\n",
       "    <tr>\n",
       "      <th>7</th>\n",
       "      <td>8. Framework Laptop\\n↴</td>\n",
       "      <td>CPU: Intel Core i5-1340P/i7-1360P/17-1370P, AM...</td>\n",
       "    </tr>\n",
       "    <tr>\n",
       "      <th>8</th>\n",
       "      <td>9. Dell XPS 13\\n↴</td>\n",
       "      <td>CPU: Intel Core i7-1250U / GPU: Intel Iris Xe ...</td>\n",
       "    </tr>\n",
       "    <tr>\n",
       "      <th>9</th>\n",
       "      <td>10. Asus Zenbook S 13 OLED\\n↴</td>\n",
       "      <td>CPU: Intel Core i7-1355U / GPU: Intel Iris Xe ...</td>\n",
       "    </tr>\n",
       "  </tbody>\n",
       "</table>\n",
       "</div>"
      ],
      "text/plain": [
       "                                Laptop_List  \\\n",
       "0              1. Apple MacBook Air (M2)\\n↴   \n",
       "1   2. MacBook Pro (14-inch and 16-inch)\\n↴   \n",
       "2             3. Asus Zenbook Pro Duo 14\\n↴   \n",
       "3               4. Asus ROG Zephyrus G14\\n↴   \n",
       "4            5. Asus Chromebook Flip CX5\\n↴   \n",
       "5  6. MacBook Pro 16 (M2 Pro and M2 Max)\\n↴   \n",
       "6                      7. MacBook Air 15\\n↴   \n",
       "7                    8. Framework Laptop\\n↴   \n",
       "8                         9. Dell XPS 13\\n↴   \n",
       "9             10. Asus Zenbook S 13 OLED\\n↴   \n",
       "\n",
       "                                  Laptop_Description  \n",
       "0  CPU: M2 / GPU: M2/ RAM: 8GB, 16GB, 24GB / Stor...  \n",
       "1  CPU: M1 Pro, M1 Max / GPU: M1 Pro, M1 Max / RA...  \n",
       "2  CPU: Intel Core i9-13900H / GPU: Nvidia Geforc...  \n",
       "3  CPU: AMD Ryzen 9 6900HS / GPU: AMD Radeon RX 6...  \n",
       "4  CPU: Intel Core i5-1135G7 / GPU: Intel Iris Xe...  \n",
       "5  CPU: M2 Pro, M2 Max / GPU: M2 Pro, M2 Max / RA...  \n",
       "6  CPU: M2 / GPU: M2 / RAM: 16GB, 16GB, 24GB / St...  \n",
       "7  CPU: Intel Core i5-1340P/i7-1360P/17-1370P, AM...  \n",
       "8  CPU: Intel Core i7-1250U / GPU: Intel Iris Xe ...  \n",
       "9  CPU: Intel Core i7-1355U / GPU: Intel Iris Xe ...  "
      ]
     },
     "execution_count": 12,
     "metadata": {},
     "output_type": "execute_result"
    }
   ],
   "source": [
    "df=pd.DataFrame({'Laptop_List':Laptop_List,'Laptop_Description':Laptop_Description})\n",
    "df"
   ]
  },
  {
   "cell_type": "code",
   "execution_count": null,
   "id": "ccdc0a73",
   "metadata": {},
   "outputs": [],
   "source": []
  }
 ],
 "metadata": {
  "kernelspec": {
   "display_name": "Python 3 (ipykernel)",
   "language": "python",
   "name": "python3"
  },
  "language_info": {
   "codemirror_mode": {
    "name": "ipython",
    "version": 3
   },
   "file_extension": ".py",
   "mimetype": "text/x-python",
   "name": "python",
   "nbconvert_exporter": "python",
   "pygments_lexer": "ipython3",
   "version": "3.11.4"
  },
  "varInspector": {
   "cols": {
    "lenName": 16,
    "lenType": 16,
    "lenVar": 40
   },
   "kernels_config": {
    "python": {
     "delete_cmd_postfix": "",
     "delete_cmd_prefix": "del ",
     "library": "var_list.py",
     "varRefreshCmd": "print(var_dic_list())"
    },
    "r": {
     "delete_cmd_postfix": ") ",
     "delete_cmd_prefix": "rm(",
     "library": "var_list.r",
     "varRefreshCmd": "cat(var_dic_list()) "
    }
   },
   "types_to_exclude": [
    "module",
    "function",
    "builtin_function_or_method",
    "instance",
    "_Feature"
   ],
   "window_display": false
  }
 },
 "nbformat": 4,
 "nbformat_minor": 5
}
