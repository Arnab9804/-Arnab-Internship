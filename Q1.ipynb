{
 "cells": [
  {
   "cell_type": "code",
   "execution_count": 28,
   "id": "6062eb0c",
   "metadata": {},
   "outputs": [],
   "source": [
    "import selenium\n",
    "from selenium import webdriver\n",
    "from selenium.webdriver.common.by import By\n",
    "from selenium.common.exceptions import NoSuchElementException,StaleElementReferenceException\n",
    "import requests\n",
    "from bs4 import BeautifulSoup\n",
    "\n",
    "import time\n",
    "import pandas as pd"
   ]
  },
  {
   "cell_type": "code",
   "execution_count": 29,
   "id": "d08a6e69",
   "metadata": {},
   "outputs": [],
   "source": [
    "driver=webdriver.Chrome()\n",
    "driver.get('https://www.amazon.in/')\n",
    "\n",
    "Input_Eliment=driver.find_element(By.ID,'twotabsearchtextbox').send_keys('guitar')\n",
    "Click_Search=driver.find_element(By.XPATH,'/html/body/div[1]/header/div/div[1]/div[2]/div/form/div[3]/div/span/input').click()"
   ]
  },
  {
   "cell_type": "code",
   "execution_count": 30,
   "id": "572a336f",
   "metadata": {},
   "outputs": [],
   "source": [
    "Guitar_URL=[]\n",
    "start=0\n",
    "end=3\n",
    "\n",
    "for page in range(start,end):\n",
    "    url=driver.find_elements(By.XPATH,'//a[@class=\"a-link-normal s-underline-text s-underline-link-text s-link-style a-text-normal\"]')\n",
    "    \n",
    "    for i in url:\n",
    "        Guitar_URL.append(i.get_attribute('href'))\n",
    "        \n",
    "    Next_Button=driver.find_element(By.XPATH,'//a[@class=\"s-pagination-item s-pagination-next s-pagination-button s-pagination-separator\"]')\n",
    "        \n",
    "    "
   ]
  },
  {
   "cell_type": "code",
   "execution_count": 31,
   "id": "eff7b110",
   "metadata": {},
   "outputs": [
    {
     "data": {
      "text/plain": [
       "189"
      ]
     },
     "execution_count": 31,
     "metadata": {},
     "output_type": "execute_result"
    }
   ],
   "source": [
    "len(Guitar_URL)"
   ]
  },
  {
   "cell_type": "code",
   "execution_count": 32,
   "id": "f12b9ca3",
   "metadata": {},
   "outputs": [
    {
     "data": {
      "text/plain": [
       "['https://www.amazon.in/sspa/click?ie=UTF8&spc=MTo1MzI2NTcxNjIxNzk2NzY6MTY5OTQ1MjU4ODpzcF9hdGY6MzAwMDczMDMxNjY1NTMyOjowOjo&url=%2FMedellin-Acoustic-Guitar-learning-course%2Fdp%2FB0CGRX6ZMF%2Fref%3Dsr_1_1_sspa%3Fkeywords%3Dguitar%26qid%3D1699452588%26sr%3D8-1-spons%26sp_csd%3Dd2lkZ2V0TmFtZT1zcF9hdGY%26psc%3D1',\n",
       " 'https://www.amazon.in/sspa/click?ie=UTF8&spc=MTo1MzI2NTcxNjIxNzk2NzY6MTY5OTQ1MjU4ODpzcF9hdGY6MjAwODg0NjQyODg4MDQ6OjA6Og&url=%2FHenrix-Acoustic-Guitar-Die-cast-Dual-action%2Fdp%2FB07VHRWV4R%2Fref%3Dsr_1_2_sspa%3Fkeywords%3Dguitar%26qid%3D1699452588%26sr%3D8-2-spons%26sp_csd%3Dd2lkZ2V0TmFtZT1zcF9hdGY%26psc%3D1',\n",
       " 'https://www.amazon.in/sspa/click?ie=UTF8&spc=MTo1MzI2NTcxNjIxNzk2NzY6MTY5OTQ1MjU4ODpzcF9hdGY6MzAwMDU5NTMwMzE1OTMyOjowOjo&url=%2FWOODEN-Guitar-Beginner-Starter-SUNBRUST%2Fdp%2FB0CJ8YGBJT%2Fref%3Dsr_1_3_sspa%3Fkeywords%3Dguitar%26qid%3D1699452588%26sr%3D8-3-spons%26sp_csd%3Dd2lkZ2V0TmFtZT1zcF9hdGY%26psc%3D1',\n",
       " 'https://www.amazon.in/sspa/click?ie=UTF8&spc=MTo1MzI2NTcxNjIxNzk2NzY6MTY5OTQ1MjU4ODpzcF9hdGY6MzAwMDQxMjY3NTQ0MzMyOjowOjo&url=%2FDEVICE-URBAN-INFOTECH-Acoustic-Beginners%2Fdp%2FB0CDS4YVKQ%2Fref%3Dsr_1_4_sspa%3Fkeywords%3Dguitar%26qid%3D1699452588%26sr%3D8-4-spons%26sp_csd%3Dd2lkZ2V0TmFtZT1zcF9hdGY%26psc%3D1',\n",
       " 'https://www.amazon.in/Juarez-Acoustic-Cutaway-038C-Strings/dp/B017NPCSLI/ref=sr_1_5?keywords=guitar&qid=1699452588&sr=8-5',\n",
       " 'https://www.amazon.in/Juarez-JRZ-ST01-6-String-Electric-Without/dp/B01FYZSOGM/ref=sr_1_6?keywords=guitar&qid=1699452588&sr=8-6',\n",
       " 'https://www.amazon.in/Intern-INT-38C-Acoustic-Guitar-Blue/dp/B073B5RZBV/ref=sr_1_7?keywords=guitar&qid=1699452588&sr=8-7',\n",
       " 'https://aax-eu.amazon.in/x/c/RJSGx2Amqof4QAU0XtrU3nIAAAGLr0STxwMAAAH2AQBvbm9fdHhuX2JpZDMgICBvbm9fdHhuX2ltcDEgICBIMr40/https://www.amazon.in/East-top-Holes-Tremolo-Harmonica/dp/B01GZN8IMC/ref=sxin_17_sbv_search_btf?content-id=amzn1.sym.10447c6b-3f84-4df3-b999-01a8bbbf010e%3Aamzn1.sym.10447c6b-3f84-4df3-b999-01a8bbbf010e&cv_ct_cx=guitar&keywords=guitar&pd_rd_i=B01GZN8IMC&pd_rd_r=da463605-5d2d-423f-8e65-dfe2c8357cf6&pd_rd_w=CeW3q&pd_rd_wg=l6YdC&pf_rd_p=10447c6b-3f84-4df3-b999-01a8bbbf010e&pf_rd_r=BVGER9DQG2YWSY9M7BNK&qid=1699452588&sbo=RZvfv%2F%2FHxDF%2BO5021pAnSA%3D%3D&sr=1-1-b614a050-8d70-4320-9c19-cc457ab2a351',\n",
       " 'https://www.amazon.in/Acoustic-F280-Dreadnought-Plectrums-Natural/dp/B092TPXZRN/ref=sr_1_8?keywords=guitar&qid=1699452588&sr=8-8',\n",
       " 'https://www.amazon.in/JUAREZ-JRZ38C-Acoustic-Sunburst-Strings/dp/B01FYYTDTU/ref=sr_1_9?keywords=guitar&qid=1699452588&sr=8-9',\n",
       " 'https://www.amazon.in/Yamaha-F280-Acoustic-Guitar-Natural/dp/B08317Y4VP/ref=sr_1_10?keywords=guitar&qid=1699452588&sr=8-10',\n",
       " 'https://www.amazon.in/JUAREZ-JRZ38C-Acoustic-Sunburst-Strings/dp/B01FYYTDS6/ref=sr_1_11?keywords=guitar&qid=1699452588&sr=8-11',\n",
       " 'https://www.amazon.in/Intern-38-inch-Cutaway-Design-Acoustic/dp/B07X4PN85R/ref=sr_1_12?keywords=guitar&qid=1699452588&sr=8-12',\n",
       " 'https://www.amazon.in/Kadence-Frontier-Acoustic-Guitar-Strings/dp/B01GDZ46AA/ref=sr_1_13?keywords=guitar&qid=1699452588&sr=8-13',\n",
       " 'https://www.amazon.in/Ibanez-IBA-MD39CNT-Acoustic-Guitar-MD39C-NT/dp/B07G4CCMYL/ref=sr_1_14?keywords=guitar&qid=1699452588&sr=8-14',\n",
       " 'https://www.amazon.in/Kadence-Frontier-Acoustic-Guitar-Strings/dp/B078GTJP5Y/ref=sr_1_15?keywords=guitar&qid=1699452588&sr=8-15',\n",
       " 'https://www.amazon.in/Yamaha-F280-Acoustic-Dreadnought-Plectrum/dp/B08VN2V5V3/ref=sr_1_16?keywords=guitar&qid=1699452588&sr=8-16',\n",
       " 'https://www.amazon.in/Ultimate-Concert-Cutaway-Acoustic-Bajaao/dp/B08WHWKKV5/ref=sr_1_17?keywords=guitar&qid=1699452588&sr=8-17',\n",
       " 'https://www.amazon.in/Henrix-Acoustic-Guitar-Die-cast-Dual-action/dp/B07VNDW6QF/ref=sr_1_18?keywords=guitar&qid=1699452588&sr=8-18',\n",
       " 'https://www.amazon.in/Intern-INT-38C-Acoustic-Guitar-Sunburst/dp/B073B5MJRM/ref=sr_1_19?keywords=guitar&qid=1699452588&sr=8-19',\n",
       " 'https://www.amazon.in/Intern-INT-38C-BK-G-Guitar-Kit-Black/dp/B07K9497RC/ref=sr_1_20?keywords=guitar&qid=1699452588&sr=8-20',\n",
       " 'https://www.amazon.in/sspa/click?ie=UTF8&spc=MTo1MzI2NTcxNjIxNzk2NzY6MTY5OTQ1MjU4ODpzcF9tdGY6MzAwMDU5NTMwMzE1NzMyOjowOjo&url=%2FWOODEN-Guitar-Beginner-Starter-NATURAL%2Fdp%2FB0CJ8YK6SC%2Fref%3Dsr_1_21_sspa%3Fkeywords%3Dguitar%26qid%3D1699452588%26sr%3D8-21-spons%26sp_csd%3Dd2lkZ2V0TmFtZT1zcF9tdGY%26psc%3D1',\n",
       " 'https://www.amazon.in/sspa/click?ie=UTF8&spc=MTo1MzI2NTcxNjIxNzk2NzY6MTY5OTQ1MjU4ODpzcF9tdGY6MzAwMDc2Mjc2MzE2MTMyOjowOjo&url=%2FPS-Signature-41inch-Acoustic-Strings%2Fdp%2FB0CGXL3VKG%2Fref%3Dsr_1_22_sspa%3Fkeywords%3Dguitar%26qid%3D1699452588%26sr%3D8-22-spons%26sp_csd%3Dd2lkZ2V0TmFtZT1zcF9tdGY%26psc%3D1',\n",
       " 'https://www.amazon.in/sspa/click?ie=UTF8&spc=MTo1MzI2NTcxNjIxNzk2NzY6MTY5OTQ1MjU4ODpzcF9tdGY6MzAwMDc2Mjc2MzE1ODMyOjowOjo&url=%2FPS-Signature-41inch-Acoustic-Strings%2Fdp%2FB0C43LH9QS%2Fref%3Dsr_1_23_sspa%3Fkeywords%3Dguitar%26qid%3D1699452588%26sr%3D8-23-spons%26sp_csd%3Dd2lkZ2V0TmFtZT1zcF9tdGY%26psc%3D1',\n",
       " 'https://www.amazon.in/sspa/click?ie=UTF8&spc=MTo1MzI2NTcxNjIxNzk2NzY6MTY5OTQ1MjU4ODpzcF9tdGY6MzAwMDU5NTMwMzE1ODMyOjowOjo&url=%2FWOODEN-Guitar-Beginner-Starter-SUNBRUST%2Fdp%2FB0CJ8YZSLR%2Fref%3Dsr_1_24_sspa%3Fkeywords%3Dguitar%26qid%3D1699452588%26sr%3D8-24-spons%26sp_csd%3Dd2lkZ2V0TmFtZT1zcF9tdGY%26psc%3D1',\n",
       " 'https://www.amazon.in/JUAREZ-JRZ38C-BKNA/dp/B0BCQNVPRB/ref=sr_1_25?keywords=guitar&qid=1699452588&sr=8-25',\n",
       " 'https://www.amazon.in/JUAREZ-JRZ38C-TBLSNA/dp/B0BCQKQ6CS/ref=sr_1_26?keywords=guitar&qid=1699452588&sr=8-26',\n",
       " 'https://www.amazon.in/JUAREZ-JRZ38C-Acoustic-Natural-Strings/dp/B01FYYTDWC/ref=sr_1_27?keywords=guitar&qid=1699452588&sr=8-27',\n",
       " 'https://www.amazon.in/Intern-INT-38C-Sunburst-Acoustic-Guitar/dp/B07X1J4D3Z/ref=sr_1_28?keywords=guitar&qid=1699452588&sr=8-28',\n",
       " 'https://www.amazon.in/Intern-INT-38C-NT-G-Guitar-Kit-Natural/dp/B07K9MZZH9/ref=sr_1_29?keywords=guitar&qid=1699452588&sr=8-29',\n",
       " 'https://www.amazon.in/Intern-INT-38C-Acoustic-Guitar-Kit/dp/B073B6TF31/ref=sr_1_30?keywords=guitar&qid=1699452588&sr=8-30',\n",
       " 'https://www.amazon.in/Kadence-Slowhand-Premium-Acoustic-Instrument/dp/B077SZ667X/ref=sr_1_31?keywords=guitar&qid=1699452588&sr=8-31',\n",
       " 'https://www.amazon.in/JUAREZ-JRZ38C-3TSNA/dp/B0BCQQRDF3/ref=sr_1_32?keywords=guitar&qid=1699452588&sr=8-32',\n",
       " 'https://www.amazon.in/Intern-INT-38C-Acoustic-Guitar-Purple/dp/B073B4CT2F/ref=sr_1_33?keywords=guitar&qid=1699452588&sr=8-33',\n",
       " 'https://www.amazon.in/Yamaha-FSX80C-Acoustic-Cutaway-Natural/dp/B09HL3GFZF/ref=sr_1_34?keywords=guitar&qid=1699452588&sr=8-34',\n",
       " 'https://www.amazon.in/Intern-INT-38C-Acoustic-Guitar-Natural/dp/B073B4D22T/ref=sr_1_35?keywords=guitar&qid=1699452588&sr=8-35',\n",
       " 'https://www.amazon.in/Acoustic-plectrums-stability-age-groups-Sunburst/dp/B09YH77571/ref=sr_1_36?keywords=guitar&qid=1699452588&sr=8-36',\n",
       " 'https://www.amazon.in/Blueberry-B-D38-Acoustic-Inbuilt-Strings/dp/B07PGV8VCB/ref=sr_1_37?keywords=guitar&qid=1699452588&sr=8-37',\n",
       " 'https://www.amazon.in/AAR-Store-Classical-Instrument-inch_Multicolor/dp/B0CF1MTX6L/ref=sr_1_38?keywords=guitar&qid=1699452588&sr=8-38',\n",
       " 'https://www.amazon.in/PS-Signature-Acoustic-Natural-Strings/dp/B0CFYS6Q7Q/ref=sr_1_39?keywords=guitar&qid=1699452588&sr=8-39',\n",
       " 'https://www.amazon.in/Blueberry-VIP-380-38Inch-Acoustic-Guitar/dp/B0BVR96DWH/ref=sr_1_40?keywords=guitar&qid=1699452588&sr=8-40',\n",
       " 'https://www.amazon.in/JRZ-ST01-6-String-Electric-Sunburst-Without/dp/B01FYZSOEE/ref=sr_1_41?keywords=guitar&qid=1699452588&sr=8-41',\n",
       " 'https://www.amazon.in/Kadence-Dreadnought-Acoustic-Guitar-learning/dp/B0CH8L5NF3/ref=sr_1_42?keywords=guitar&qid=1699452588&sr=8-42',\n",
       " 'https://www.amazon.in/Kadence-Astro-Electric-Guitar-FRETS/dp/B09YHPH1MZ/ref=sr_1_43?keywords=guitar&qid=1699452588&sr=8-43',\n",
       " 'https://www.amazon.in/Juarez-Acoustic-Guitar-Cutaway-Strings/dp/B076QHZ4HZ/ref=sr_1_44?keywords=guitar&qid=1699452588&sr=8-44',\n",
       " 'https://www.amazon.in/Intern-INT-38C-Brown-Acoustic-Guitar/dp/B07X2HV158/ref=sr_1_45?keywords=guitar&qid=1699452588&sr=8-45',\n",
       " 'https://www.amazon.in/Yamaha-FS-100C-6-String-Acoustic-without/dp/B00PAS9CK6/ref=sr_1_46?keywords=guitar&qid=1699452588&sr=8-46',\n",
       " 'https://www.amazon.in/Kadence-Acoustica-Acoustic-Guitar-Zebra/dp/B07KXNKLJ2/ref=sr_1_47?keywords=guitar&qid=1699452588&sr=8-47',\n",
       " 'https://www.amazon.in/Yamaha-Acoustic-Guitar-Tobacco-Sunburst/dp/B08VXR74Q2/ref=sr_1_48?keywords=guitar&qid=1699452588&sr=8-48',\n",
       " 'https://www.amazon.in/Dreadnought-Acoustic-Gig-Bag-Strings-Polishing/dp/B0BJJRJVHY/ref=sr_1_49?keywords=guitar&qid=1699452588&sr=8-49',\n",
       " 'https://www.amazon.in/Intern-INT-38C-SB-G-Guitar-Kit-Sunburst/dp/B07K8WLPLH/ref=sr_1_50?keywords=guitar&qid=1699452588&sr=8-50',\n",
       " 'https://www.amazon.in/Fender-SA105CEBK-Acoustic-Guitar/dp/B01N6KME9M/ref=sr_1_51?keywords=guitar&qid=1699452588&sr=8-51',\n",
       " 'https://www.amazon.in/PS-Signature-41inch-Acoustic-Strings/dp/B0CK95TQ75/ref=sr_1_52?keywords=guitar&qid=1699452588&sr=8-52',\n",
       " 'https://www.amazon.in/Givson-Ketostics-Guitar-Acoustic-Plectrums/dp/B08KS5MRSC/ref=sr_1_53?keywords=guitar&qid=1699452588&sr=8-53',\n",
       " 'https://www.amazon.in/Yamaha-F310-6-Strings-Acoustic-Natural/dp/B000RVYW7E/ref=sr_1_54?keywords=guitar&qid=1699452588&sr=8-54',\n",
       " 'https://www.amazon.in/YAMAHA-FS80C-CONCERT-CUTAWAY-GUITAR/dp/B08WBBVMVJ/ref=sr_1_55?keywords=guitar&qid=1699452588&sr=8-55',\n",
       " 'https://www.amazon.in/Intern-INT-38C-VT-G-Guitar-Kit-Violet/dp/B07K8YJXKL/ref=sr_1_56?keywords=guitar&qid=1699452588&sr=8-56',\n",
       " 'https://www.amazon.in/sspa/click?ie=UTF8&spc=MTo1MzI2NTcxNjIxNzk2NzY6MTY5OTQ1MjU4ODpzcF9idGY6MzAwMDc2Mjc2MzE1OTMyOjowOjo&url=%2FPS-Signature-Vintage-Sunburst-Acoustic%2Fdp%2FB0CKBZQT49%2Fref%3Dsr_1_57_sspa%3Fkeywords%3Dguitar%26qid%3D1699452588%26sr%3D8-57-spons%26sp_csd%3Dd2lkZ2V0TmFtZT1zcF9idGY%26psc%3D1',\n",
       " 'https://www.amazon.in/sspa/click?ie=UTF8&spc=MTozNzMzNjY1NjYzMDM2Njc2OjE2OTk0NTI1ODg6c3Bfc2VhcmNoX3RoZW1hdGljOjIwMDk2NjA4NzUwNDk4OjowOjo&url=%2FKadence-Frontier-Acoustic-Guitar-Strings%2Fdp%2FB01GDZ46AA%2Fref%3Dsxbs_pa_sp_search_thematic_sspa%3Fcontent-id%3Damzn1.sym.805228e5-1d3e-4e8f-9351-10b82d092dfb%253Aamzn1.sym.805228e5-1d3e-4e8f-9351-10b82d092dfb%26cv_ct_cx%3Dguitar%26keywords%3Dguitar%26pd_rd_i%3DB01GDZ46AA%26pd_rd_r%3D338d515c-2e50-48d6-84bc-4baeeffed09d%26pd_rd_w%3DG8UqH%26pd_rd_wg%3DxtFsD%26pf_rd_p%3D805228e5-1d3e-4e8f-9351-10b82d092dfb%26pf_rd_r%3DBVGER9DQG2YWSY9M7BNK%26qid%3D1699452588%26sbo%3DRZvfv%252F%252FHxDF%252BO5021pAnSA%253D%253D%26sr%3D1-1-73222741-6f95-42a8-848a-b982e92e054b-spons%26sp_csd%3Dd2lkZ2V0TmFtZT1zcF9zZWFyY2hfdGhlbWF0aWM%26psc%3D1',\n",
       " 'https://www.amazon.in/sspa/click?ie=UTF8&spc=MTozNzMzNjY1NjYzMDM2Njc2OjE2OTk0NTI1ODg6c3Bfc2VhcmNoX3RoZW1hdGljOjMwMDAxNTUzNzk3OTIzMjo6MTo6&url=%2FKadence-Frontier-Acoustic-Guitar-Strings%2Fdp%2FB078GTJP5Y%2Fref%3Dsxbs_pa_sp_search_thematic_sspa%3Fcontent-id%3Damzn1.sym.805228e5-1d3e-4e8f-9351-10b82d092dfb%253Aamzn1.sym.805228e5-1d3e-4e8f-9351-10b82d092dfb%26cv_ct_cx%3Dguitar%26keywords%3Dguitar%26pd_rd_i%3DB078GTJP5Y%26pd_rd_r%3D338d515c-2e50-48d6-84bc-4baeeffed09d%26pd_rd_w%3DG8UqH%26pd_rd_wg%3DxtFsD%26pf_rd_p%3D805228e5-1d3e-4e8f-9351-10b82d092dfb%26pf_rd_r%3DBVGER9DQG2YWSY9M7BNK%26qid%3D1699452588%26sbo%3DRZvfv%252F%252FHxDF%252BO5021pAnSA%253D%253D%26sr%3D1-2-73222741-6f95-42a8-848a-b982e92e054b-spons%26sp_csd%3Dd2lkZ2V0TmFtZT1zcF9zZWFyY2hfdGhlbWF0aWM%26psc%3D1',\n",
       " 'https://www.amazon.in/sspa/click?ie=UTF8&spc=MTozNzMzNjY1NjYzMDM2Njc2OjE2OTk0NTI1ODg6c3Bfc2VhcmNoX3RoZW1hdGljOjIwMDkyNjI0MDIxNTk4OjoyOjo&url=%2FDreadnought-Acoustic-Gig-Bag-Strings-Polishing%2Fdp%2FB0BJJRJVHY%2Fref%3Dsxbs_pa_sp_search_thematic_sspa%3Fcontent-id%3Damzn1.sym.805228e5-1d3e-4e8f-9351-10b82d092dfb%253Aamzn1.sym.805228e5-1d3e-4e8f-9351-10b82d092dfb%26cv_ct_cx%3Dguitar%26keywords%3Dguitar%26pd_rd_i%3DB0BJJRJVHY%26pd_rd_r%3D338d515c-2e50-48d6-84bc-4baeeffed09d%26pd_rd_w%3DG8UqH%26pd_rd_wg%3DxtFsD%26pf_rd_p%3D805228e5-1d3e-4e8f-9351-10b82d092dfb%26pf_rd_r%3DBVGER9DQG2YWSY9M7BNK%26qid%3D1699452588%26sbo%3DRZvfv%252F%252FHxDF%252BO5021pAnSA%253D%253D%26sr%3D1-3-73222741-6f95-42a8-848a-b982e92e054b-spons%26sp_csd%3Dd2lkZ2V0TmFtZT1zcF9zZWFyY2hfdGhlbWF0aWM%26psc%3D1',\n",
       " 'https://www.amazon.in/sspa/click?ie=UTF8&spc=MTozNzMzNjY1NjYzMDM2Njc2OjE2OTk0NTI1ODg6c3Bfc2VhcmNoX3RoZW1hdGljOjMwMDA3NjI3NjMxNjEzMjo6Mzo6&url=%2FPS-Signature-41inch-Acoustic-Strings%2Fdp%2FB0CGXL3VKG%2Fref%3Dsxbs_pa_sp_search_thematic_sspa%3Fcontent-id%3Damzn1.sym.805228e5-1d3e-4e8f-9351-10b82d092dfb%253Aamzn1.sym.805228e5-1d3e-4e8f-9351-10b82d092dfb%26cv_ct_cx%3Dguitar%26keywords%3Dguitar%26pd_rd_i%3DB0CGXL3VKG%26pd_rd_r%3D338d515c-2e50-48d6-84bc-4baeeffed09d%26pd_rd_w%3DG8UqH%26pd_rd_wg%3DxtFsD%26pf_rd_p%3D805228e5-1d3e-4e8f-9351-10b82d092dfb%26pf_rd_r%3DBVGER9DQG2YWSY9M7BNK%26qid%3D1699452588%26sbo%3DRZvfv%252F%252FHxDF%252BO5021pAnSA%253D%253D%26sr%3D1-4-73222741-6f95-42a8-848a-b982e92e054b-spons%26sp_csd%3Dd2lkZ2V0TmFtZT1zcF9zZWFyY2hfdGhlbWF0aWM%26psc%3D1',\n",
       " 'https://www.amazon.in/sspa/click?ie=UTF8&spc=MTozNzMzNjY1NjYzMDM2Njc2OjE2OTk0NTI1ODg6c3Bfc2VhcmNoX3RoZW1hdGljOjMwMDA3NjI3NjMxNjMzMjo6NDo6&url=%2FPS-Signature-Acoustic-Natural-Strings%2Fdp%2FB0CFYS6Q7Q%2Fref%3Dsxbs_pa_sp_search_thematic_sspa%3Fcontent-id%3Damzn1.sym.805228e5-1d3e-4e8f-9351-10b82d092dfb%253Aamzn1.sym.805228e5-1d3e-4e8f-9351-10b82d092dfb%26cv_ct_cx%3Dguitar%26keywords%3Dguitar%26pd_rd_i%3DB0CFYS6Q7Q%26pd_rd_r%3D338d515c-2e50-48d6-84bc-4baeeffed09d%26pd_rd_w%3DG8UqH%26pd_rd_wg%3DxtFsD%26pf_rd_p%3D805228e5-1d3e-4e8f-9351-10b82d092dfb%26pf_rd_r%3DBVGER9DQG2YWSY9M7BNK%26qid%3D1699452588%26sbo%3DRZvfv%252F%252FHxDF%252BO5021pAnSA%253D%253D%26sr%3D1-5-73222741-6f95-42a8-848a-b982e92e054b-spons%26sp_csd%3Dd2lkZ2V0TmFtZT1zcF9zZWFyY2hfdGhlbWF0aWM%26psc%3D1',\n",
       " 'https://www.amazon.in/sspa/click?ie=UTF8&spc=MTo1MzI2NTcxNjIxNzk2NzY6MTY5OTQ1MjU4ODpzcF9hdGY6MzAwMDczMDMxNjY1NTMyOjowOjo&url=%2FMedellin-Acoustic-Guitar-learning-course%2Fdp%2FB0CGRX6ZMF%2Fref%3Dsr_1_1_sspa%3Fkeywords%3Dguitar%26qid%3D1699452588%26sr%3D8-1-spons%26sp_csd%3Dd2lkZ2V0TmFtZT1zcF9hdGY%26psc%3D1',\n",
       " 'https://www.amazon.in/sspa/click?ie=UTF8&spc=MTo1MzI2NTcxNjIxNzk2NzY6MTY5OTQ1MjU4ODpzcF9hdGY6MjAwODg0NjQyODg4MDQ6OjA6Og&url=%2FHenrix-Acoustic-Guitar-Die-cast-Dual-action%2Fdp%2FB07VHRWV4R%2Fref%3Dsr_1_2_sspa%3Fkeywords%3Dguitar%26qid%3D1699452588%26sr%3D8-2-spons%26sp_csd%3Dd2lkZ2V0TmFtZT1zcF9hdGY%26psc%3D1',\n",
       " 'https://www.amazon.in/sspa/click?ie=UTF8&spc=MTo1MzI2NTcxNjIxNzk2NzY6MTY5OTQ1MjU4ODpzcF9hdGY6MzAwMDU5NTMwMzE1OTMyOjowOjo&url=%2FWOODEN-Guitar-Beginner-Starter-SUNBRUST%2Fdp%2FB0CJ8YGBJT%2Fref%3Dsr_1_3_sspa%3Fkeywords%3Dguitar%26qid%3D1699452588%26sr%3D8-3-spons%26sp_csd%3Dd2lkZ2V0TmFtZT1zcF9hdGY%26psc%3D1',\n",
       " 'https://www.amazon.in/sspa/click?ie=UTF8&spc=MTo1MzI2NTcxNjIxNzk2NzY6MTY5OTQ1MjU4ODpzcF9hdGY6MzAwMDQxMjY3NTQ0MzMyOjowOjo&url=%2FDEVICE-URBAN-INFOTECH-Acoustic-Beginners%2Fdp%2FB0CDS4YVKQ%2Fref%3Dsr_1_4_sspa%3Fkeywords%3Dguitar%26qid%3D1699452588%26sr%3D8-4-spons%26sp_csd%3Dd2lkZ2V0TmFtZT1zcF9hdGY%26psc%3D1',\n",
       " 'https://www.amazon.in/Juarez-Acoustic-Cutaway-038C-Strings/dp/B017NPCSLI/ref=sr_1_5?keywords=guitar&qid=1699452588&sr=8-5',\n",
       " 'https://www.amazon.in/Juarez-JRZ-ST01-6-String-Electric-Without/dp/B01FYZSOGM/ref=sr_1_6?keywords=guitar&qid=1699452588&sr=8-6',\n",
       " 'https://www.amazon.in/Intern-INT-38C-Acoustic-Guitar-Blue/dp/B073B5RZBV/ref=sr_1_7?keywords=guitar&qid=1699452588&sr=8-7',\n",
       " 'https://aax-eu.amazon.in/x/c/RJSGx2Amqof4QAU0XtrU3nIAAAGLr0STxwMAAAH2AQBvbm9fdHhuX2JpZDMgICBvbm9fdHhuX2ltcDEgICBIMr40/https://www.amazon.in/East-top-Holes-Tremolo-Harmonica/dp/B01GZN8IMC/ref=sxin_17_sbv_search_btf?content-id=amzn1.sym.10447c6b-3f84-4df3-b999-01a8bbbf010e%3Aamzn1.sym.10447c6b-3f84-4df3-b999-01a8bbbf010e&cv_ct_cx=guitar&keywords=guitar&pd_rd_i=B01GZN8IMC&pd_rd_r=da463605-5d2d-423f-8e65-dfe2c8357cf6&pd_rd_w=CeW3q&pd_rd_wg=l6YdC&pf_rd_p=10447c6b-3f84-4df3-b999-01a8bbbf010e&pf_rd_r=BVGER9DQG2YWSY9M7BNK&qid=1699452588&sbo=RZvfv%2F%2FHxDF%2BO5021pAnSA%3D%3D&sr=1-1-b614a050-8d70-4320-9c19-cc457ab2a351',\n",
       " 'https://www.amazon.in/Acoustic-F280-Dreadnought-Plectrums-Natural/dp/B092TPXZRN/ref=sr_1_8?keywords=guitar&qid=1699452588&sr=8-8',\n",
       " 'https://www.amazon.in/JUAREZ-JRZ38C-Acoustic-Sunburst-Strings/dp/B01FYYTDTU/ref=sr_1_9?keywords=guitar&qid=1699452588&sr=8-9',\n",
       " 'https://www.amazon.in/Yamaha-F280-Acoustic-Guitar-Natural/dp/B08317Y4VP/ref=sr_1_10?keywords=guitar&qid=1699452588&sr=8-10',\n",
       " 'https://www.amazon.in/JUAREZ-JRZ38C-Acoustic-Sunburst-Strings/dp/B01FYYTDS6/ref=sr_1_11?keywords=guitar&qid=1699452588&sr=8-11',\n",
       " 'https://www.amazon.in/Intern-38-inch-Cutaway-Design-Acoustic/dp/B07X4PN85R/ref=sr_1_12?keywords=guitar&qid=1699452588&sr=8-12',\n",
       " 'https://www.amazon.in/Kadence-Frontier-Acoustic-Guitar-Strings/dp/B01GDZ46AA/ref=sr_1_13?keywords=guitar&qid=1699452588&sr=8-13',\n",
       " 'https://www.amazon.in/Ibanez-IBA-MD39CNT-Acoustic-Guitar-MD39C-NT/dp/B07G4CCMYL/ref=sr_1_14?keywords=guitar&qid=1699452588&sr=8-14',\n",
       " 'https://www.amazon.in/Kadence-Frontier-Acoustic-Guitar-Strings/dp/B078GTJP5Y/ref=sr_1_15?keywords=guitar&qid=1699452588&sr=8-15',\n",
       " 'https://www.amazon.in/Yamaha-F280-Acoustic-Dreadnought-Plectrum/dp/B08VN2V5V3/ref=sr_1_16?keywords=guitar&qid=1699452588&sr=8-16',\n",
       " 'https://www.amazon.in/Ultimate-Concert-Cutaway-Acoustic-Bajaao/dp/B08WHWKKV5/ref=sr_1_17?keywords=guitar&qid=1699452588&sr=8-17',\n",
       " 'https://www.amazon.in/Henrix-Acoustic-Guitar-Die-cast-Dual-action/dp/B07VNDW6QF/ref=sr_1_18?keywords=guitar&qid=1699452588&sr=8-18',\n",
       " 'https://www.amazon.in/Intern-INT-38C-Acoustic-Guitar-Sunburst/dp/B073B5MJRM/ref=sr_1_19?keywords=guitar&qid=1699452588&sr=8-19',\n",
       " 'https://www.amazon.in/Intern-INT-38C-BK-G-Guitar-Kit-Black/dp/B07K9497RC/ref=sr_1_20?keywords=guitar&qid=1699452588&sr=8-20',\n",
       " 'https://www.amazon.in/sspa/click?ie=UTF8&spc=MTo1MzI2NTcxNjIxNzk2NzY6MTY5OTQ1MjU4ODpzcF9tdGY6MzAwMDU5NTMwMzE1NzMyOjowOjo&url=%2FWOODEN-Guitar-Beginner-Starter-NATURAL%2Fdp%2FB0CJ8YK6SC%2Fref%3Dsr_1_21_sspa%3Fkeywords%3Dguitar%26qid%3D1699452588%26sr%3D8-21-spons%26sp_csd%3Dd2lkZ2V0TmFtZT1zcF9tdGY%26psc%3D1',\n",
       " 'https://www.amazon.in/sspa/click?ie=UTF8&spc=MTo1MzI2NTcxNjIxNzk2NzY6MTY5OTQ1MjU4ODpzcF9tdGY6MzAwMDc2Mjc2MzE2MTMyOjowOjo&url=%2FPS-Signature-41inch-Acoustic-Strings%2Fdp%2FB0CGXL3VKG%2Fref%3Dsr_1_22_sspa%3Fkeywords%3Dguitar%26qid%3D1699452588%26sr%3D8-22-spons%26sp_csd%3Dd2lkZ2V0TmFtZT1zcF9tdGY%26psc%3D1',\n",
       " 'https://www.amazon.in/sspa/click?ie=UTF8&spc=MTo1MzI2NTcxNjIxNzk2NzY6MTY5OTQ1MjU4ODpzcF9tdGY6MzAwMDc2Mjc2MzE1ODMyOjowOjo&url=%2FPS-Signature-41inch-Acoustic-Strings%2Fdp%2FB0C43LH9QS%2Fref%3Dsr_1_23_sspa%3Fkeywords%3Dguitar%26qid%3D1699452588%26sr%3D8-23-spons%26sp_csd%3Dd2lkZ2V0TmFtZT1zcF9tdGY%26psc%3D1',\n",
       " 'https://www.amazon.in/sspa/click?ie=UTF8&spc=MTo1MzI2NTcxNjIxNzk2NzY6MTY5OTQ1MjU4ODpzcF9tdGY6MzAwMDU5NTMwMzE1ODMyOjowOjo&url=%2FWOODEN-Guitar-Beginner-Starter-SUNBRUST%2Fdp%2FB0CJ8YZSLR%2Fref%3Dsr_1_24_sspa%3Fkeywords%3Dguitar%26qid%3D1699452588%26sr%3D8-24-spons%26sp_csd%3Dd2lkZ2V0TmFtZT1zcF9tdGY%26psc%3D1',\n",
       " 'https://www.amazon.in/JUAREZ-JRZ38C-BKNA/dp/B0BCQNVPRB/ref=sr_1_25?keywords=guitar&qid=1699452588&sr=8-25',\n",
       " 'https://www.amazon.in/JUAREZ-JRZ38C-TBLSNA/dp/B0BCQKQ6CS/ref=sr_1_26?keywords=guitar&qid=1699452588&sr=8-26',\n",
       " 'https://www.amazon.in/JUAREZ-JRZ38C-Acoustic-Natural-Strings/dp/B01FYYTDWC/ref=sr_1_27?keywords=guitar&qid=1699452588&sr=8-27',\n",
       " 'https://www.amazon.in/Intern-INT-38C-Sunburst-Acoustic-Guitar/dp/B07X1J4D3Z/ref=sr_1_28?keywords=guitar&qid=1699452588&sr=8-28',\n",
       " 'https://www.amazon.in/Intern-INT-38C-NT-G-Guitar-Kit-Natural/dp/B07K9MZZH9/ref=sr_1_29?keywords=guitar&qid=1699452588&sr=8-29',\n",
       " 'https://www.amazon.in/Intern-INT-38C-Acoustic-Guitar-Kit/dp/B073B6TF31/ref=sr_1_30?keywords=guitar&qid=1699452588&sr=8-30',\n",
       " 'https://www.amazon.in/Kadence-Slowhand-Premium-Acoustic-Instrument/dp/B077SZ667X/ref=sr_1_31?keywords=guitar&qid=1699452588&sr=8-31',\n",
       " 'https://www.amazon.in/JUAREZ-JRZ38C-3TSNA/dp/B0BCQQRDF3/ref=sr_1_32?keywords=guitar&qid=1699452588&sr=8-32',\n",
       " 'https://www.amazon.in/Intern-INT-38C-Acoustic-Guitar-Purple/dp/B073B4CT2F/ref=sr_1_33?keywords=guitar&qid=1699452588&sr=8-33',\n",
       " 'https://www.amazon.in/Yamaha-FSX80C-Acoustic-Cutaway-Natural/dp/B09HL3GFZF/ref=sr_1_34?keywords=guitar&qid=1699452588&sr=8-34',\n",
       " 'https://www.amazon.in/Intern-INT-38C-Acoustic-Guitar-Natural/dp/B073B4D22T/ref=sr_1_35?keywords=guitar&qid=1699452588&sr=8-35',\n",
       " 'https://www.amazon.in/Acoustic-plectrums-stability-age-groups-Sunburst/dp/B09YH77571/ref=sr_1_36?keywords=guitar&qid=1699452588&sr=8-36',\n",
       " 'https://www.amazon.in/Blueberry-B-D38-Acoustic-Inbuilt-Strings/dp/B07PGV8VCB/ref=sr_1_37?keywords=guitar&qid=1699452588&sr=8-37',\n",
       " 'https://www.amazon.in/AAR-Store-Classical-Instrument-inch_Multicolor/dp/B0CF1MTX6L/ref=sr_1_38?keywords=guitar&qid=1699452588&sr=8-38',\n",
       " 'https://www.amazon.in/PS-Signature-Acoustic-Natural-Strings/dp/B0CFYS6Q7Q/ref=sr_1_39?keywords=guitar&qid=1699452588&sr=8-39',\n",
       " 'https://www.amazon.in/Blueberry-VIP-380-38Inch-Acoustic-Guitar/dp/B0BVR96DWH/ref=sr_1_40?keywords=guitar&qid=1699452588&sr=8-40',\n",
       " 'https://www.amazon.in/JRZ-ST01-6-String-Electric-Sunburst-Without/dp/B01FYZSOEE/ref=sr_1_41?keywords=guitar&qid=1699452588&sr=8-41',\n",
       " 'https://www.amazon.in/Kadence-Dreadnought-Acoustic-Guitar-learning/dp/B0CH8L5NF3/ref=sr_1_42?keywords=guitar&qid=1699452588&sr=8-42',\n",
       " 'https://www.amazon.in/Kadence-Astro-Electric-Guitar-FRETS/dp/B09YHPH1MZ/ref=sr_1_43?keywords=guitar&qid=1699452588&sr=8-43',\n",
       " 'https://www.amazon.in/Juarez-Acoustic-Guitar-Cutaway-Strings/dp/B076QHZ4HZ/ref=sr_1_44?keywords=guitar&qid=1699452588&sr=8-44',\n",
       " 'https://www.amazon.in/Intern-INT-38C-Brown-Acoustic-Guitar/dp/B07X2HV158/ref=sr_1_45?keywords=guitar&qid=1699452588&sr=8-45',\n",
       " 'https://www.amazon.in/Yamaha-FS-100C-6-String-Acoustic-without/dp/B00PAS9CK6/ref=sr_1_46?keywords=guitar&qid=1699452588&sr=8-46',\n",
       " 'https://www.amazon.in/Kadence-Acoustica-Acoustic-Guitar-Zebra/dp/B07KXNKLJ2/ref=sr_1_47?keywords=guitar&qid=1699452588&sr=8-47',\n",
       " 'https://www.amazon.in/Yamaha-Acoustic-Guitar-Tobacco-Sunburst/dp/B08VXR74Q2/ref=sr_1_48?keywords=guitar&qid=1699452588&sr=8-48',\n",
       " 'https://www.amazon.in/Dreadnought-Acoustic-Gig-Bag-Strings-Polishing/dp/B0BJJRJVHY/ref=sr_1_49?keywords=guitar&qid=1699452588&sr=8-49',\n",
       " 'https://www.amazon.in/Intern-INT-38C-SB-G-Guitar-Kit-Sunburst/dp/B07K8WLPLH/ref=sr_1_50?keywords=guitar&qid=1699452588&sr=8-50',\n",
       " 'https://www.amazon.in/Fender-SA105CEBK-Acoustic-Guitar/dp/B01N6KME9M/ref=sr_1_51?keywords=guitar&qid=1699452588&sr=8-51',\n",
       " 'https://www.amazon.in/PS-Signature-41inch-Acoustic-Strings/dp/B0CK95TQ75/ref=sr_1_52?keywords=guitar&qid=1699452588&sr=8-52',\n",
       " 'https://www.amazon.in/Givson-Ketostics-Guitar-Acoustic-Plectrums/dp/B08KS5MRSC/ref=sr_1_53?keywords=guitar&qid=1699452588&sr=8-53',\n",
       " 'https://www.amazon.in/Yamaha-F310-6-Strings-Acoustic-Natural/dp/B000RVYW7E/ref=sr_1_54?keywords=guitar&qid=1699452588&sr=8-54',\n",
       " 'https://www.amazon.in/YAMAHA-FS80C-CONCERT-CUTAWAY-GUITAR/dp/B08WBBVMVJ/ref=sr_1_55?keywords=guitar&qid=1699452588&sr=8-55',\n",
       " 'https://www.amazon.in/Intern-INT-38C-VT-G-Guitar-Kit-Violet/dp/B07K8YJXKL/ref=sr_1_56?keywords=guitar&qid=1699452588&sr=8-56',\n",
       " 'https://www.amazon.in/sspa/click?ie=UTF8&spc=MTo1MzI2NTcxNjIxNzk2NzY6MTY5OTQ1MjU4ODpzcF9idGY6MzAwMDc2Mjc2MzE1OTMyOjowOjo&url=%2FPS-Signature-Vintage-Sunburst-Acoustic%2Fdp%2FB0CKBZQT49%2Fref%3Dsr_1_57_sspa%3Fkeywords%3Dguitar%26qid%3D1699452588%26sr%3D8-57-spons%26sp_csd%3Dd2lkZ2V0TmFtZT1zcF9idGY%26psc%3D1',\n",
       " 'https://www.amazon.in/sspa/click?ie=UTF8&spc=MTozNzMzNjY1NjYzMDM2Njc2OjE2OTk0NTI1ODg6c3Bfc2VhcmNoX3RoZW1hdGljOjIwMDk2NjA4NzUwNDk4OjowOjo&url=%2FKadence-Frontier-Acoustic-Guitar-Strings%2Fdp%2FB01GDZ46AA%2Fref%3Dsxbs_pa_sp_search_thematic_sspa%3Fcontent-id%3Damzn1.sym.805228e5-1d3e-4e8f-9351-10b82d092dfb%253Aamzn1.sym.805228e5-1d3e-4e8f-9351-10b82d092dfb%26cv_ct_cx%3Dguitar%26keywords%3Dguitar%26pd_rd_i%3DB01GDZ46AA%26pd_rd_r%3D338d515c-2e50-48d6-84bc-4baeeffed09d%26pd_rd_w%3DG8UqH%26pd_rd_wg%3DxtFsD%26pf_rd_p%3D805228e5-1d3e-4e8f-9351-10b82d092dfb%26pf_rd_r%3DBVGER9DQG2YWSY9M7BNK%26qid%3D1699452588%26sbo%3DRZvfv%252F%252FHxDF%252BO5021pAnSA%253D%253D%26sr%3D1-1-73222741-6f95-42a8-848a-b982e92e054b-spons%26sp_csd%3Dd2lkZ2V0TmFtZT1zcF9zZWFyY2hfdGhlbWF0aWM%26psc%3D1',\n",
       " 'https://www.amazon.in/sspa/click?ie=UTF8&spc=MTozNzMzNjY1NjYzMDM2Njc2OjE2OTk0NTI1ODg6c3Bfc2VhcmNoX3RoZW1hdGljOjMwMDAxNTUzNzk3OTIzMjo6MTo6&url=%2FKadence-Frontier-Acoustic-Guitar-Strings%2Fdp%2FB078GTJP5Y%2Fref%3Dsxbs_pa_sp_search_thematic_sspa%3Fcontent-id%3Damzn1.sym.805228e5-1d3e-4e8f-9351-10b82d092dfb%253Aamzn1.sym.805228e5-1d3e-4e8f-9351-10b82d092dfb%26cv_ct_cx%3Dguitar%26keywords%3Dguitar%26pd_rd_i%3DB078GTJP5Y%26pd_rd_r%3D338d515c-2e50-48d6-84bc-4baeeffed09d%26pd_rd_w%3DG8UqH%26pd_rd_wg%3DxtFsD%26pf_rd_p%3D805228e5-1d3e-4e8f-9351-10b82d092dfb%26pf_rd_r%3DBVGER9DQG2YWSY9M7BNK%26qid%3D1699452588%26sbo%3DRZvfv%252F%252FHxDF%252BO5021pAnSA%253D%253D%26sr%3D1-2-73222741-6f95-42a8-848a-b982e92e054b-spons%26sp_csd%3Dd2lkZ2V0TmFtZT1zcF9zZWFyY2hfdGhlbWF0aWM%26psc%3D1',\n",
       " 'https://www.amazon.in/sspa/click?ie=UTF8&spc=MTozNzMzNjY1NjYzMDM2Njc2OjE2OTk0NTI1ODg6c3Bfc2VhcmNoX3RoZW1hdGljOjIwMDkyNjI0MDIxNTk4OjoyOjo&url=%2FDreadnought-Acoustic-Gig-Bag-Strings-Polishing%2Fdp%2FB0BJJRJVHY%2Fref%3Dsxbs_pa_sp_search_thematic_sspa%3Fcontent-id%3Damzn1.sym.805228e5-1d3e-4e8f-9351-10b82d092dfb%253Aamzn1.sym.805228e5-1d3e-4e8f-9351-10b82d092dfb%26cv_ct_cx%3Dguitar%26keywords%3Dguitar%26pd_rd_i%3DB0BJJRJVHY%26pd_rd_r%3D338d515c-2e50-48d6-84bc-4baeeffed09d%26pd_rd_w%3DG8UqH%26pd_rd_wg%3DxtFsD%26pf_rd_p%3D805228e5-1d3e-4e8f-9351-10b82d092dfb%26pf_rd_r%3DBVGER9DQG2YWSY9M7BNK%26qid%3D1699452588%26sbo%3DRZvfv%252F%252FHxDF%252BO5021pAnSA%253D%253D%26sr%3D1-3-73222741-6f95-42a8-848a-b982e92e054b-spons%26sp_csd%3Dd2lkZ2V0TmFtZT1zcF9zZWFyY2hfdGhlbWF0aWM%26psc%3D1',\n",
       " 'https://www.amazon.in/sspa/click?ie=UTF8&spc=MTozNzMzNjY1NjYzMDM2Njc2OjE2OTk0NTI1ODg6c3Bfc2VhcmNoX3RoZW1hdGljOjMwMDA3NjI3NjMxNjEzMjo6Mzo6&url=%2FPS-Signature-41inch-Acoustic-Strings%2Fdp%2FB0CGXL3VKG%2Fref%3Dsxbs_pa_sp_search_thematic_sspa%3Fcontent-id%3Damzn1.sym.805228e5-1d3e-4e8f-9351-10b82d092dfb%253Aamzn1.sym.805228e5-1d3e-4e8f-9351-10b82d092dfb%26cv_ct_cx%3Dguitar%26keywords%3Dguitar%26pd_rd_i%3DB0CGXL3VKG%26pd_rd_r%3D338d515c-2e50-48d6-84bc-4baeeffed09d%26pd_rd_w%3DG8UqH%26pd_rd_wg%3DxtFsD%26pf_rd_p%3D805228e5-1d3e-4e8f-9351-10b82d092dfb%26pf_rd_r%3DBVGER9DQG2YWSY9M7BNK%26qid%3D1699452588%26sbo%3DRZvfv%252F%252FHxDF%252BO5021pAnSA%253D%253D%26sr%3D1-4-73222741-6f95-42a8-848a-b982e92e054b-spons%26sp_csd%3Dd2lkZ2V0TmFtZT1zcF9zZWFyY2hfdGhlbWF0aWM%26psc%3D1',\n",
       " 'https://www.amazon.in/sspa/click?ie=UTF8&spc=MTozNzMzNjY1NjYzMDM2Njc2OjE2OTk0NTI1ODg6c3Bfc2VhcmNoX3RoZW1hdGljOjMwMDA3NjI3NjMxNjMzMjo6NDo6&url=%2FPS-Signature-Acoustic-Natural-Strings%2Fdp%2FB0CFYS6Q7Q%2Fref%3Dsxbs_pa_sp_search_thematic_sspa%3Fcontent-id%3Damzn1.sym.805228e5-1d3e-4e8f-9351-10b82d092dfb%253Aamzn1.sym.805228e5-1d3e-4e8f-9351-10b82d092dfb%26cv_ct_cx%3Dguitar%26keywords%3Dguitar%26pd_rd_i%3DB0CFYS6Q7Q%26pd_rd_r%3D338d515c-2e50-48d6-84bc-4baeeffed09d%26pd_rd_w%3DG8UqH%26pd_rd_wg%3DxtFsD%26pf_rd_p%3D805228e5-1d3e-4e8f-9351-10b82d092dfb%26pf_rd_r%3DBVGER9DQG2YWSY9M7BNK%26qid%3D1699452588%26sbo%3DRZvfv%252F%252FHxDF%252BO5021pAnSA%253D%253D%26sr%3D1-5-73222741-6f95-42a8-848a-b982e92e054b-spons%26sp_csd%3Dd2lkZ2V0TmFtZT1zcF9zZWFyY2hfdGhlbWF0aWM%26psc%3D1',\n",
       " 'https://www.amazon.in/sspa/click?ie=UTF8&spc=MTo1MzI2NTcxNjIxNzk2NzY6MTY5OTQ1MjU4ODpzcF9hdGY6MzAwMDczMDMxNjY1NTMyOjowOjo&url=%2FMedellin-Acoustic-Guitar-learning-course%2Fdp%2FB0CGRX6ZMF%2Fref%3Dsr_1_1_sspa%3Fkeywords%3Dguitar%26qid%3D1699452588%26sr%3D8-1-spons%26sp_csd%3Dd2lkZ2V0TmFtZT1zcF9hdGY%26psc%3D1',\n",
       " 'https://www.amazon.in/sspa/click?ie=UTF8&spc=MTo1MzI2NTcxNjIxNzk2NzY6MTY5OTQ1MjU4ODpzcF9hdGY6MjAwODg0NjQyODg4MDQ6OjA6Og&url=%2FHenrix-Acoustic-Guitar-Die-cast-Dual-action%2Fdp%2FB07VHRWV4R%2Fref%3Dsr_1_2_sspa%3Fkeywords%3Dguitar%26qid%3D1699452588%26sr%3D8-2-spons%26sp_csd%3Dd2lkZ2V0TmFtZT1zcF9hdGY%26psc%3D1',\n",
       " 'https://www.amazon.in/sspa/click?ie=UTF8&spc=MTo1MzI2NTcxNjIxNzk2NzY6MTY5OTQ1MjU4ODpzcF9hdGY6MzAwMDU5NTMwMzE1OTMyOjowOjo&url=%2FWOODEN-Guitar-Beginner-Starter-SUNBRUST%2Fdp%2FB0CJ8YGBJT%2Fref%3Dsr_1_3_sspa%3Fkeywords%3Dguitar%26qid%3D1699452588%26sr%3D8-3-spons%26sp_csd%3Dd2lkZ2V0TmFtZT1zcF9hdGY%26psc%3D1',\n",
       " 'https://www.amazon.in/sspa/click?ie=UTF8&spc=MTo1MzI2NTcxNjIxNzk2NzY6MTY5OTQ1MjU4ODpzcF9hdGY6MzAwMDQxMjY3NTQ0MzMyOjowOjo&url=%2FDEVICE-URBAN-INFOTECH-Acoustic-Beginners%2Fdp%2FB0CDS4YVKQ%2Fref%3Dsr_1_4_sspa%3Fkeywords%3Dguitar%26qid%3D1699452588%26sr%3D8-4-spons%26sp_csd%3Dd2lkZ2V0TmFtZT1zcF9hdGY%26psc%3D1',\n",
       " 'https://www.amazon.in/Juarez-Acoustic-Cutaway-038C-Strings/dp/B017NPCSLI/ref=sr_1_5?keywords=guitar&qid=1699452588&sr=8-5',\n",
       " 'https://www.amazon.in/Juarez-JRZ-ST01-6-String-Electric-Without/dp/B01FYZSOGM/ref=sr_1_6?keywords=guitar&qid=1699452588&sr=8-6',\n",
       " 'https://www.amazon.in/Intern-INT-38C-Acoustic-Guitar-Blue/dp/B073B5RZBV/ref=sr_1_7?keywords=guitar&qid=1699452588&sr=8-7',\n",
       " 'https://aax-eu.amazon.in/x/c/RJSGx2Amqof4QAU0XtrU3nIAAAGLr0STxwMAAAH2AQBvbm9fdHhuX2JpZDMgICBvbm9fdHhuX2ltcDEgICBIMr40/https://www.amazon.in/East-top-Holes-Tremolo-Harmonica/dp/B01GZN8IMC/ref=sxin_17_sbv_search_btf?content-id=amzn1.sym.10447c6b-3f84-4df3-b999-01a8bbbf010e%3Aamzn1.sym.10447c6b-3f84-4df3-b999-01a8bbbf010e&cv_ct_cx=guitar&keywords=guitar&pd_rd_i=B01GZN8IMC&pd_rd_r=da463605-5d2d-423f-8e65-dfe2c8357cf6&pd_rd_w=CeW3q&pd_rd_wg=l6YdC&pf_rd_p=10447c6b-3f84-4df3-b999-01a8bbbf010e&pf_rd_r=BVGER9DQG2YWSY9M7BNK&qid=1699452588&sbo=RZvfv%2F%2FHxDF%2BO5021pAnSA%3D%3D&sr=1-1-b614a050-8d70-4320-9c19-cc457ab2a351',\n",
       " 'https://www.amazon.in/Acoustic-F280-Dreadnought-Plectrums-Natural/dp/B092TPXZRN/ref=sr_1_8?keywords=guitar&qid=1699452588&sr=8-8',\n",
       " 'https://www.amazon.in/JUAREZ-JRZ38C-Acoustic-Sunburst-Strings/dp/B01FYYTDTU/ref=sr_1_9?keywords=guitar&qid=1699452588&sr=8-9',\n",
       " 'https://www.amazon.in/Yamaha-F280-Acoustic-Guitar-Natural/dp/B08317Y4VP/ref=sr_1_10?keywords=guitar&qid=1699452588&sr=8-10',\n",
       " 'https://www.amazon.in/JUAREZ-JRZ38C-Acoustic-Sunburst-Strings/dp/B01FYYTDS6/ref=sr_1_11?keywords=guitar&qid=1699452588&sr=8-11',\n",
       " 'https://www.amazon.in/Intern-38-inch-Cutaway-Design-Acoustic/dp/B07X4PN85R/ref=sr_1_12?keywords=guitar&qid=1699452588&sr=8-12',\n",
       " 'https://www.amazon.in/Kadence-Frontier-Acoustic-Guitar-Strings/dp/B01GDZ46AA/ref=sr_1_13?keywords=guitar&qid=1699452588&sr=8-13',\n",
       " 'https://www.amazon.in/Ibanez-IBA-MD39CNT-Acoustic-Guitar-MD39C-NT/dp/B07G4CCMYL/ref=sr_1_14?keywords=guitar&qid=1699452588&sr=8-14',\n",
       " 'https://www.amazon.in/Kadence-Frontier-Acoustic-Guitar-Strings/dp/B078GTJP5Y/ref=sr_1_15?keywords=guitar&qid=1699452588&sr=8-15',\n",
       " 'https://www.amazon.in/Yamaha-F280-Acoustic-Dreadnought-Plectrum/dp/B08VN2V5V3/ref=sr_1_16?keywords=guitar&qid=1699452588&sr=8-16',\n",
       " 'https://www.amazon.in/Ultimate-Concert-Cutaway-Acoustic-Bajaao/dp/B08WHWKKV5/ref=sr_1_17?keywords=guitar&qid=1699452588&sr=8-17',\n",
       " 'https://www.amazon.in/Henrix-Acoustic-Guitar-Die-cast-Dual-action/dp/B07VNDW6QF/ref=sr_1_18?keywords=guitar&qid=1699452588&sr=8-18',\n",
       " 'https://www.amazon.in/Intern-INT-38C-Acoustic-Guitar-Sunburst/dp/B073B5MJRM/ref=sr_1_19?keywords=guitar&qid=1699452588&sr=8-19',\n",
       " 'https://www.amazon.in/Intern-INT-38C-BK-G-Guitar-Kit-Black/dp/B07K9497RC/ref=sr_1_20?keywords=guitar&qid=1699452588&sr=8-20',\n",
       " 'https://www.amazon.in/sspa/click?ie=UTF8&spc=MTo1MzI2NTcxNjIxNzk2NzY6MTY5OTQ1MjU4ODpzcF9tdGY6MzAwMDU5NTMwMzE1NzMyOjowOjo&url=%2FWOODEN-Guitar-Beginner-Starter-NATURAL%2Fdp%2FB0CJ8YK6SC%2Fref%3Dsr_1_21_sspa%3Fkeywords%3Dguitar%26qid%3D1699452588%26sr%3D8-21-spons%26sp_csd%3Dd2lkZ2V0TmFtZT1zcF9tdGY%26psc%3D1',\n",
       " 'https://www.amazon.in/sspa/click?ie=UTF8&spc=MTo1MzI2NTcxNjIxNzk2NzY6MTY5OTQ1MjU4ODpzcF9tdGY6MzAwMDc2Mjc2MzE2MTMyOjowOjo&url=%2FPS-Signature-41inch-Acoustic-Strings%2Fdp%2FB0CGXL3VKG%2Fref%3Dsr_1_22_sspa%3Fkeywords%3Dguitar%26qid%3D1699452588%26sr%3D8-22-spons%26sp_csd%3Dd2lkZ2V0TmFtZT1zcF9tdGY%26psc%3D1',\n",
       " 'https://www.amazon.in/sspa/click?ie=UTF8&spc=MTo1MzI2NTcxNjIxNzk2NzY6MTY5OTQ1MjU4ODpzcF9tdGY6MzAwMDc2Mjc2MzE1ODMyOjowOjo&url=%2FPS-Signature-41inch-Acoustic-Strings%2Fdp%2FB0C43LH9QS%2Fref%3Dsr_1_23_sspa%3Fkeywords%3Dguitar%26qid%3D1699452588%26sr%3D8-23-spons%26sp_csd%3Dd2lkZ2V0TmFtZT1zcF9tdGY%26psc%3D1',\n",
       " 'https://www.amazon.in/sspa/click?ie=UTF8&spc=MTo1MzI2NTcxNjIxNzk2NzY6MTY5OTQ1MjU4ODpzcF9tdGY6MzAwMDU5NTMwMzE1ODMyOjowOjo&url=%2FWOODEN-Guitar-Beginner-Starter-SUNBRUST%2Fdp%2FB0CJ8YZSLR%2Fref%3Dsr_1_24_sspa%3Fkeywords%3Dguitar%26qid%3D1699452588%26sr%3D8-24-spons%26sp_csd%3Dd2lkZ2V0TmFtZT1zcF9tdGY%26psc%3D1',\n",
       " 'https://www.amazon.in/JUAREZ-JRZ38C-BKNA/dp/B0BCQNVPRB/ref=sr_1_25?keywords=guitar&qid=1699452588&sr=8-25',\n",
       " 'https://www.amazon.in/JUAREZ-JRZ38C-TBLSNA/dp/B0BCQKQ6CS/ref=sr_1_26?keywords=guitar&qid=1699452588&sr=8-26',\n",
       " 'https://www.amazon.in/JUAREZ-JRZ38C-Acoustic-Natural-Strings/dp/B01FYYTDWC/ref=sr_1_27?keywords=guitar&qid=1699452588&sr=8-27',\n",
       " 'https://www.amazon.in/Intern-INT-38C-Sunburst-Acoustic-Guitar/dp/B07X1J4D3Z/ref=sr_1_28?keywords=guitar&qid=1699452588&sr=8-28',\n",
       " 'https://www.amazon.in/Intern-INT-38C-NT-G-Guitar-Kit-Natural/dp/B07K9MZZH9/ref=sr_1_29?keywords=guitar&qid=1699452588&sr=8-29',\n",
       " 'https://www.amazon.in/Intern-INT-38C-Acoustic-Guitar-Kit/dp/B073B6TF31/ref=sr_1_30?keywords=guitar&qid=1699452588&sr=8-30',\n",
       " 'https://www.amazon.in/Kadence-Slowhand-Premium-Acoustic-Instrument/dp/B077SZ667X/ref=sr_1_31?keywords=guitar&qid=1699452588&sr=8-31',\n",
       " 'https://www.amazon.in/JUAREZ-JRZ38C-3TSNA/dp/B0BCQQRDF3/ref=sr_1_32?keywords=guitar&qid=1699452588&sr=8-32',\n",
       " 'https://www.amazon.in/Intern-INT-38C-Acoustic-Guitar-Purple/dp/B073B4CT2F/ref=sr_1_33?keywords=guitar&qid=1699452588&sr=8-33',\n",
       " 'https://www.amazon.in/Yamaha-FSX80C-Acoustic-Cutaway-Natural/dp/B09HL3GFZF/ref=sr_1_34?keywords=guitar&qid=1699452588&sr=8-34',\n",
       " 'https://www.amazon.in/Intern-INT-38C-Acoustic-Guitar-Natural/dp/B073B4D22T/ref=sr_1_35?keywords=guitar&qid=1699452588&sr=8-35',\n",
       " 'https://www.amazon.in/Acoustic-plectrums-stability-age-groups-Sunburst/dp/B09YH77571/ref=sr_1_36?keywords=guitar&qid=1699452588&sr=8-36',\n",
       " 'https://www.amazon.in/Blueberry-B-D38-Acoustic-Inbuilt-Strings/dp/B07PGV8VCB/ref=sr_1_37?keywords=guitar&qid=1699452588&sr=8-37',\n",
       " 'https://www.amazon.in/AAR-Store-Classical-Instrument-inch_Multicolor/dp/B0CF1MTX6L/ref=sr_1_38?keywords=guitar&qid=1699452588&sr=8-38',\n",
       " 'https://www.amazon.in/PS-Signature-Acoustic-Natural-Strings/dp/B0CFYS6Q7Q/ref=sr_1_39?keywords=guitar&qid=1699452588&sr=8-39',\n",
       " 'https://www.amazon.in/Blueberry-VIP-380-38Inch-Acoustic-Guitar/dp/B0BVR96DWH/ref=sr_1_40?keywords=guitar&qid=1699452588&sr=8-40',\n",
       " 'https://www.amazon.in/JRZ-ST01-6-String-Electric-Sunburst-Without/dp/B01FYZSOEE/ref=sr_1_41?keywords=guitar&qid=1699452588&sr=8-41',\n",
       " 'https://www.amazon.in/Kadence-Dreadnought-Acoustic-Guitar-learning/dp/B0CH8L5NF3/ref=sr_1_42?keywords=guitar&qid=1699452588&sr=8-42',\n",
       " 'https://www.amazon.in/Kadence-Astro-Electric-Guitar-FRETS/dp/B09YHPH1MZ/ref=sr_1_43?keywords=guitar&qid=1699452588&sr=8-43',\n",
       " 'https://www.amazon.in/Juarez-Acoustic-Guitar-Cutaway-Strings/dp/B076QHZ4HZ/ref=sr_1_44?keywords=guitar&qid=1699452588&sr=8-44',\n",
       " 'https://www.amazon.in/Intern-INT-38C-Brown-Acoustic-Guitar/dp/B07X2HV158/ref=sr_1_45?keywords=guitar&qid=1699452588&sr=8-45',\n",
       " 'https://www.amazon.in/Yamaha-FS-100C-6-String-Acoustic-without/dp/B00PAS9CK6/ref=sr_1_46?keywords=guitar&qid=1699452588&sr=8-46',\n",
       " 'https://www.amazon.in/Kadence-Acoustica-Acoustic-Guitar-Zebra/dp/B07KXNKLJ2/ref=sr_1_47?keywords=guitar&qid=1699452588&sr=8-47',\n",
       " 'https://www.amazon.in/Yamaha-Acoustic-Guitar-Tobacco-Sunburst/dp/B08VXR74Q2/ref=sr_1_48?keywords=guitar&qid=1699452588&sr=8-48',\n",
       " 'https://www.amazon.in/Dreadnought-Acoustic-Gig-Bag-Strings-Polishing/dp/B0BJJRJVHY/ref=sr_1_49?keywords=guitar&qid=1699452588&sr=8-49',\n",
       " 'https://www.amazon.in/Intern-INT-38C-SB-G-Guitar-Kit-Sunburst/dp/B07K8WLPLH/ref=sr_1_50?keywords=guitar&qid=1699452588&sr=8-50',\n",
       " 'https://www.amazon.in/Fender-SA105CEBK-Acoustic-Guitar/dp/B01N6KME9M/ref=sr_1_51?keywords=guitar&qid=1699452588&sr=8-51',\n",
       " 'https://www.amazon.in/PS-Signature-41inch-Acoustic-Strings/dp/B0CK95TQ75/ref=sr_1_52?keywords=guitar&qid=1699452588&sr=8-52',\n",
       " 'https://www.amazon.in/Givson-Ketostics-Guitar-Acoustic-Plectrums/dp/B08KS5MRSC/ref=sr_1_53?keywords=guitar&qid=1699452588&sr=8-53',\n",
       " 'https://www.amazon.in/Yamaha-F310-6-Strings-Acoustic-Natural/dp/B000RVYW7E/ref=sr_1_54?keywords=guitar&qid=1699452588&sr=8-54',\n",
       " 'https://www.amazon.in/YAMAHA-FS80C-CONCERT-CUTAWAY-GUITAR/dp/B08WBBVMVJ/ref=sr_1_55?keywords=guitar&qid=1699452588&sr=8-55',\n",
       " 'https://www.amazon.in/Intern-INT-38C-VT-G-Guitar-Kit-Violet/dp/B07K8YJXKL/ref=sr_1_56?keywords=guitar&qid=1699452588&sr=8-56',\n",
       " 'https://www.amazon.in/sspa/click?ie=UTF8&spc=MTo1MzI2NTcxNjIxNzk2NzY6MTY5OTQ1MjU4ODpzcF9idGY6MzAwMDc2Mjc2MzE1OTMyOjowOjo&url=%2FPS-Signature-Vintage-Sunburst-Acoustic%2Fdp%2FB0CKBZQT49%2Fref%3Dsr_1_57_sspa%3Fkeywords%3Dguitar%26qid%3D1699452588%26sr%3D8-57-spons%26sp_csd%3Dd2lkZ2V0TmFtZT1zcF9idGY%26psc%3D1',\n",
       " 'https://www.amazon.in/sspa/click?ie=UTF8&spc=MTozNzMzNjY1NjYzMDM2Njc2OjE2OTk0NTI1ODg6c3Bfc2VhcmNoX3RoZW1hdGljOjIwMDk2NjA4NzUwNDk4OjowOjo&url=%2FKadence-Frontier-Acoustic-Guitar-Strings%2Fdp%2FB01GDZ46AA%2Fref%3Dsxbs_pa_sp_search_thematic_sspa%3Fcontent-id%3Damzn1.sym.805228e5-1d3e-4e8f-9351-10b82d092dfb%253Aamzn1.sym.805228e5-1d3e-4e8f-9351-10b82d092dfb%26cv_ct_cx%3Dguitar%26keywords%3Dguitar%26pd_rd_i%3DB01GDZ46AA%26pd_rd_r%3D338d515c-2e50-48d6-84bc-4baeeffed09d%26pd_rd_w%3DG8UqH%26pd_rd_wg%3DxtFsD%26pf_rd_p%3D805228e5-1d3e-4e8f-9351-10b82d092dfb%26pf_rd_r%3DBVGER9DQG2YWSY9M7BNK%26qid%3D1699452588%26sbo%3DRZvfv%252F%252FHxDF%252BO5021pAnSA%253D%253D%26sr%3D1-1-73222741-6f95-42a8-848a-b982e92e054b-spons%26sp_csd%3Dd2lkZ2V0TmFtZT1zcF9zZWFyY2hfdGhlbWF0aWM%26psc%3D1',\n",
       " 'https://www.amazon.in/sspa/click?ie=UTF8&spc=MTozNzMzNjY1NjYzMDM2Njc2OjE2OTk0NTI1ODg6c3Bfc2VhcmNoX3RoZW1hdGljOjMwMDAxNTUzNzk3OTIzMjo6MTo6&url=%2FKadence-Frontier-Acoustic-Guitar-Strings%2Fdp%2FB078GTJP5Y%2Fref%3Dsxbs_pa_sp_search_thematic_sspa%3Fcontent-id%3Damzn1.sym.805228e5-1d3e-4e8f-9351-10b82d092dfb%253Aamzn1.sym.805228e5-1d3e-4e8f-9351-10b82d092dfb%26cv_ct_cx%3Dguitar%26keywords%3Dguitar%26pd_rd_i%3DB078GTJP5Y%26pd_rd_r%3D338d515c-2e50-48d6-84bc-4baeeffed09d%26pd_rd_w%3DG8UqH%26pd_rd_wg%3DxtFsD%26pf_rd_p%3D805228e5-1d3e-4e8f-9351-10b82d092dfb%26pf_rd_r%3DBVGER9DQG2YWSY9M7BNK%26qid%3D1699452588%26sbo%3DRZvfv%252F%252FHxDF%252BO5021pAnSA%253D%253D%26sr%3D1-2-73222741-6f95-42a8-848a-b982e92e054b-spons%26sp_csd%3Dd2lkZ2V0TmFtZT1zcF9zZWFyY2hfdGhlbWF0aWM%26psc%3D1',\n",
       " 'https://www.amazon.in/sspa/click?ie=UTF8&spc=MTozNzMzNjY1NjYzMDM2Njc2OjE2OTk0NTI1ODg6c3Bfc2VhcmNoX3RoZW1hdGljOjIwMDkyNjI0MDIxNTk4OjoyOjo&url=%2FDreadnought-Acoustic-Gig-Bag-Strings-Polishing%2Fdp%2FB0BJJRJVHY%2Fref%3Dsxbs_pa_sp_search_thematic_sspa%3Fcontent-id%3Damzn1.sym.805228e5-1d3e-4e8f-9351-10b82d092dfb%253Aamzn1.sym.805228e5-1d3e-4e8f-9351-10b82d092dfb%26cv_ct_cx%3Dguitar%26keywords%3Dguitar%26pd_rd_i%3DB0BJJRJVHY%26pd_rd_r%3D338d515c-2e50-48d6-84bc-4baeeffed09d%26pd_rd_w%3DG8UqH%26pd_rd_wg%3DxtFsD%26pf_rd_p%3D805228e5-1d3e-4e8f-9351-10b82d092dfb%26pf_rd_r%3DBVGER9DQG2YWSY9M7BNK%26qid%3D1699452588%26sbo%3DRZvfv%252F%252FHxDF%252BO5021pAnSA%253D%253D%26sr%3D1-3-73222741-6f95-42a8-848a-b982e92e054b-spons%26sp_csd%3Dd2lkZ2V0TmFtZT1zcF9zZWFyY2hfdGhlbWF0aWM%26psc%3D1',\n",
       " 'https://www.amazon.in/sspa/click?ie=UTF8&spc=MTozNzMzNjY1NjYzMDM2Njc2OjE2OTk0NTI1ODg6c3Bfc2VhcmNoX3RoZW1hdGljOjMwMDA3NjI3NjMxNjEzMjo6Mzo6&url=%2FPS-Signature-41inch-Acoustic-Strings%2Fdp%2FB0CGXL3VKG%2Fref%3Dsxbs_pa_sp_search_thematic_sspa%3Fcontent-id%3Damzn1.sym.805228e5-1d3e-4e8f-9351-10b82d092dfb%253Aamzn1.sym.805228e5-1d3e-4e8f-9351-10b82d092dfb%26cv_ct_cx%3Dguitar%26keywords%3Dguitar%26pd_rd_i%3DB0CGXL3VKG%26pd_rd_r%3D338d515c-2e50-48d6-84bc-4baeeffed09d%26pd_rd_w%3DG8UqH%26pd_rd_wg%3DxtFsD%26pf_rd_p%3D805228e5-1d3e-4e8f-9351-10b82d092dfb%26pf_rd_r%3DBVGER9DQG2YWSY9M7BNK%26qid%3D1699452588%26sbo%3DRZvfv%252F%252FHxDF%252BO5021pAnSA%253D%253D%26sr%3D1-4-73222741-6f95-42a8-848a-b982e92e054b-spons%26sp_csd%3Dd2lkZ2V0TmFtZT1zcF9zZWFyY2hfdGhlbWF0aWM%26psc%3D1',\n",
       " 'https://www.amazon.in/sspa/click?ie=UTF8&spc=MTozNzMzNjY1NjYzMDM2Njc2OjE2OTk0NTI1ODg6c3Bfc2VhcmNoX3RoZW1hdGljOjMwMDA3NjI3NjMxNjMzMjo6NDo6&url=%2FPS-Signature-Acoustic-Natural-Strings%2Fdp%2FB0CFYS6Q7Q%2Fref%3Dsxbs_pa_sp_search_thematic_sspa%3Fcontent-id%3Damzn1.sym.805228e5-1d3e-4e8f-9351-10b82d092dfb%253Aamzn1.sym.805228e5-1d3e-4e8f-9351-10b82d092dfb%26cv_ct_cx%3Dguitar%26keywords%3Dguitar%26pd_rd_i%3DB0CFYS6Q7Q%26pd_rd_r%3D338d515c-2e50-48d6-84bc-4baeeffed09d%26pd_rd_w%3DG8UqH%26pd_rd_wg%3DxtFsD%26pf_rd_p%3D805228e5-1d3e-4e8f-9351-10b82d092dfb%26pf_rd_r%3DBVGER9DQG2YWSY9M7BNK%26qid%3D1699452588%26sbo%3DRZvfv%252F%252FHxDF%252BO5021pAnSA%253D%253D%26sr%3D1-5-73222741-6f95-42a8-848a-b982e92e054b-spons%26sp_csd%3Dd2lkZ2V0TmFtZT1zcF9zZWFyY2hfdGhlbWF0aWM%26psc%3D1']"
      ]
     },
     "execution_count": 32,
     "metadata": {},
     "output_type": "execute_result"
    }
   ],
   "source": [
    "Guitar_URL"
   ]
  },
  {
   "cell_type": "code",
   "execution_count": 39,
   "id": "e102b120",
   "metadata": {},
   "outputs": [],
   "source": [
    "Brand_Name=[]\n",
    "Price=[]\n",
    "\n",
    "\n",
    "for i in Guitar_URL:\n",
    "    driver.get(i)\n",
    "    time.sleep(3)\n",
    "    \n",
    "    try:\n",
    "        Brand_Name_tag=driver.find_element(By.XPATH,'/html/body/div[2]/div/div[5]/div[3]/div[4]/div[1]/div/h1/span')\n",
    "        Brand_Name.append(Brand_Name_tag.text)\n",
    "        \n",
    "        Price_tag=driver.find_element(By.XPATH,'/html/body/div[2]/div/div[5]/div[3]/div[4]/div[13]/div/div/div[4]/div[1]/span[3]/span[2]/span[2]')\n",
    "        Price.append(Price_tag.text)\n",
    "        \n",
    "                                     \n",
    "        \n",
    "        \n",
    "    except NoSuchElementException as e:\n",
    "        Brand_Name.append('No information')\n",
    "\n",
    "        \n",
    "      "
   ]
  },
  {
   "cell_type": "code",
   "execution_count": 36,
   "id": "8d235394",
   "metadata": {},
   "outputs": [
    {
     "data": {
      "text/plain": [
       "189"
      ]
     },
     "execution_count": 36,
     "metadata": {},
     "output_type": "execute_result"
    }
   ],
   "source": [
    "len(Brand_Name)"
   ]
  },
  {
   "cell_type": "code",
   "execution_count": 40,
   "id": "b728c62b",
   "metadata": {},
   "outputs": [
    {
     "data": {
      "text/plain": [
       "138"
      ]
     },
     "execution_count": 40,
     "metadata": {},
     "output_type": "execute_result"
    }
   ],
   "source": [
    "len(Price)"
   ]
  },
  {
   "cell_type": "code",
   "execution_count": null,
   "id": "f6818d62",
   "metadata": {},
   "outputs": [],
   "source": []
  }
 ],
 "metadata": {
  "kernelspec": {
   "display_name": "Python 3 (ipykernel)",
   "language": "python",
   "name": "python3"
  },
  "language_info": {
   "codemirror_mode": {
    "name": "ipython",
    "version": 3
   },
   "file_extension": ".py",
   "mimetype": "text/x-python",
   "name": "python",
   "nbconvert_exporter": "python",
   "pygments_lexer": "ipython3",
   "version": "3.11.4"
  },
  "varInspector": {
   "cols": {
    "lenName": 16,
    "lenType": 16,
    "lenVar": 40
   },
   "kernels_config": {
    "python": {
     "delete_cmd_postfix": "",
     "delete_cmd_prefix": "del ",
     "library": "var_list.py",
     "varRefreshCmd": "print(var_dic_list())"
    },
    "r": {
     "delete_cmd_postfix": ") ",
     "delete_cmd_prefix": "rm(",
     "library": "var_list.r",
     "varRefreshCmd": "cat(var_dic_list()) "
    }
   },
   "types_to_exclude": [
    "module",
    "function",
    "builtin_function_or_method",
    "instance",
    "_Feature"
   ],
   "window_display": false
  }
 },
 "nbformat": 4,
 "nbformat_minor": 5
}
