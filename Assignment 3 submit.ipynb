{
 "cells": [
  {
   "cell_type": "markdown",
   "id": "ed13c091",
   "metadata": {},
   "source": [
    "# Q1"
   ]
  },
  {
   "cell_type": "code",
   "execution_count": null,
   "id": "ce6d8d96",
   "metadata": {},
   "outputs": [],
   "source": [
    "import selenium\n",
    "import time\n",
    "from selenium import webdriver\n",
    "from selenium.webdriver.common.by import By\n",
    "from selenium.common.exceptions import StaleElementReferenceException,NoSuchElementException\n",
    "import pandas as pd"
   ]
  },
  {
   "cell_type": "code",
   "execution_count": 2,
   "id": "f1f72e55",
   "metadata": {},
   "outputs": [],
   "source": [
    "driver=webdriver.Chrome()\n",
    "\n",
    "driver.get('https://www.amazon.in/?&ext_vrnc=hi&tag=googhydrabk1-21&ref=pd_sl_7hz2t19t5c_e&adgrpid=58355126069&hvpone=&hvptwo=&hvadid=676742234347&hvpos=&hvnetw=g&hvrand=10141899787163930069&hvqmt=e&hvdev=c&hvdvcmdl=&hvlocint=&hvlocphy=9302680&hvtargid=kwd-10573980&hydadcr=14453_2367553&gclid=Cj0KCQiApOyqBhDlARIsAGfnyMqazVjp8PVYSdVN5AnJK4ydkMvifRUM0oEXEyuRvDQov8RAa50mm7oaAg_jEALw_wcB')"
   ]
  },
  {
   "cell_type": "code",
   "execution_count": 4,
   "id": "44303dd3",
   "metadata": {},
   "outputs": [],
   "source": [
    "search_find_input=driver.find_element(By.XPATH,'/html/body/div[1]/header/div/div[1]/div[2]/div/form/div[2]/div[1]/input')\n",
    "search_find_input.send_keys('Guitar')\n"
   ]
  },
  {
   "cell_type": "code",
   "execution_count": 5,
   "id": "2e585fc4",
   "metadata": {},
   "outputs": [],
   "source": [
    "Search_button=driver.find_element(By.XPATH,'/html/body/div[1]/header/div/div[1]/div[2]/div/form/div[3]/div/span/input')\n",
    "Search_button.click()\n"
   ]
  },
  {
   "cell_type": "code",
   "execution_count": 7,
   "id": "e7fd1273",
   "metadata": {},
   "outputs": [],
   "source": [
    "Product_url=[]\n",
    "start=0\n",
    "end=3\n",
    "for page in range(start,end):\n",
    "    url=driver.find_elements(By.XPATH,'//a[@class=\"a-link-normal s-underline-text s-underline-link-text s-link-style a-text-normal\"]')\n",
    "    for i in url:\n",
    "        Product_url.append(i.get_attribute('href'))\n",
    "    next_button=driver.find_element(By.XPATH,'//a[@class=\"s-pagination-item s-pagination-next s-pagination-button s-pagination-separator\"]')\n",
    "    next_button.click()\n",
    "    time.sleep(2)\n",
    "    \n",
    "        \n",
    "    "
   ]
  },
  {
   "cell_type": "code",
   "execution_count": 8,
   "id": "794790ce",
   "metadata": {},
   "outputs": [
    {
     "data": {
      "text/plain": [
       "180"
      ]
     },
     "execution_count": 8,
     "metadata": {},
     "output_type": "execute_result"
    }
   ],
   "source": [
    "len(Product_url)"
   ]
  },
  {
   "cell_type": "code",
   "execution_count": 12,
   "id": "36d68c0f",
   "metadata": {},
   "outputs": [],
   "source": [
    "Brand=[]\n",
    "Price=[]\n",
    "for url in Product_url:\n",
    "    driver.get(url)\n",
    "    time.sleep(2)\n",
    "    \n",
    "    try:\n",
    "        Brand_name=driver.find_element(By.XPATH,'/html/body/div[2]/div/div[5]/div[3]/div[4]/div[46]/div/table/tbody/tr[1]/td[2]/span')\n",
    "        Brand.append(Brand_name.text)\n",
    "        \n",
    "    except NoSuchElementException:\n",
    "        Brand.append('No Brand')\n",
    "        \n",
    "    try:\n",
    "        Product_price=driver.find_element(By.XPATH,'/html/body/div[2]/div/div[5]/div[3]/div[4]/div[13]/div/div/div[4]/div[1]/span[3]/span[2]/span[2]')\n",
    "        Price.append(Product_price.text)\n",
    "        \n",
    "    except NoSuchElementException:\n",
    "        Price.append('No Price')\n",
    "        \n",
    "    \n",
    "  \n",
    "        \n",
    "   "
   ]
  },
  {
   "cell_type": "code",
   "execution_count": 16,
   "id": "1d2f973a",
   "metadata": {},
   "outputs": [
    {
     "data": {
      "text/html": [
       "<div>\n",
       "<style scoped>\n",
       "    .dataframe tbody tr th:only-of-type {\n",
       "        vertical-align: middle;\n",
       "    }\n",
       "\n",
       "    .dataframe tbody tr th {\n",
       "        vertical-align: top;\n",
       "    }\n",
       "\n",
       "    .dataframe thead th {\n",
       "        text-align: right;\n",
       "    }\n",
       "</style>\n",
       "<table border=\"1\" class=\"dataframe\">\n",
       "  <thead>\n",
       "    <tr style=\"text-align: right;\">\n",
       "      <th></th>\n",
       "      <th>Brand</th>\n",
       "      <th>Price</th>\n",
       "    </tr>\n",
       "  </thead>\n",
       "  <tbody>\n",
       "    <tr>\n",
       "      <th>0</th>\n",
       "      <td>Kadence</td>\n",
       "      <td>5,499</td>\n",
       "    </tr>\n",
       "    <tr>\n",
       "      <th>1</th>\n",
       "      <td>Henrix</td>\n",
       "      <td>3,199</td>\n",
       "    </tr>\n",
       "    <tr>\n",
       "      <th>2</th>\n",
       "      <td>VAULT</td>\n",
       "      <td>4,899</td>\n",
       "    </tr>\n",
       "    <tr>\n",
       "      <th>3</th>\n",
       "      <td>PS Signature</td>\n",
       "      <td>3,599</td>\n",
       "    </tr>\n",
       "    <tr>\n",
       "      <th>4</th>\n",
       "      <td>JUAREZ</td>\n",
       "      <td>1,999</td>\n",
       "    </tr>\n",
       "    <tr>\n",
       "      <th>...</th>\n",
       "      <td>...</td>\n",
       "      <td>...</td>\n",
       "    </tr>\n",
       "    <tr>\n",
       "      <th>175</th>\n",
       "      <td>YAMAHA</td>\n",
       "      <td>No Price</td>\n",
       "    </tr>\n",
       "    <tr>\n",
       "      <th>176</th>\n",
       "      <td>No Brand</td>\n",
       "      <td>3,299</td>\n",
       "    </tr>\n",
       "    <tr>\n",
       "      <th>177</th>\n",
       "      <td>Generic</td>\n",
       "      <td>699</td>\n",
       "    </tr>\n",
       "    <tr>\n",
       "      <th>178</th>\n",
       "      <td>No Brand</td>\n",
       "      <td>No Price</td>\n",
       "    </tr>\n",
       "    <tr>\n",
       "      <th>179</th>\n",
       "      <td>No Brand</td>\n",
       "      <td>399</td>\n",
       "    </tr>\n",
       "  </tbody>\n",
       "</table>\n",
       "<p>180 rows × 2 columns</p>\n",
       "</div>"
      ],
      "text/plain": [
       "            Brand     Price\n",
       "0         Kadence     5,499\n",
       "1          Henrix     3,199\n",
       "2           VAULT     4,899\n",
       "3    PS Signature     3,599\n",
       "4          JUAREZ     1,999\n",
       "..            ...       ...\n",
       "175        YAMAHA  No Price\n",
       "176      No Brand     3,299\n",
       "177       Generic       699\n",
       "178      No Brand  No Price\n",
       "179      No Brand       399\n",
       "\n",
       "[180 rows x 2 columns]"
      ]
     },
     "execution_count": 16,
     "metadata": {},
     "output_type": "execute_result"
    }
   ],
   "source": [
    "df=pd.DataFrame({'Brand':Brand,'Price':Price})\n",
    "df"
   ]
  },
  {
   "cell_type": "markdown",
   "id": "6c781637",
   "metadata": {},
   "source": [
    "# Q3:"
   ]
  },
  {
   "cell_type": "code",
   "execution_count": 25,
   "id": "ad45f282",
   "metadata": {},
   "outputs": [],
   "source": [
    "import selenium\n",
    "import time\n",
    "from selenium import webdriver\n",
    "from selenium.webdriver.common.by import By\n",
    "from selenium.common.exceptions import StaleElementReferenceException,NoSuchElementException\n",
    "import pandas as pd\n",
    "import requests"
   ]
  },
  {
   "cell_type": "code",
   "execution_count": 32,
   "id": "e4f95711",
   "metadata": {},
   "outputs": [],
   "source": [
    "driver=webdriver.Chrome()\n",
    "driver.get('https://www.google.com/')"
   ]
  },
  {
   "cell_type": "code",
   "execution_count": 33,
   "id": "fc87c2bd",
   "metadata": {},
   "outputs": [],
   "source": [
    "input_tag=driver.find_element(By.CLASS_NAME,'gLFyf')\n",
    "input_tag.send_keys('fruits')\n"
   ]
  },
  {
   "cell_type": "code",
   "execution_count": 34,
   "id": "340356e8",
   "metadata": {},
   "outputs": [],
   "source": [
    "search=driver.find_element(By.CLASS_NAME,'gNO89b').click()"
   ]
  },
  {
   "cell_type": "code",
   "execution_count": 35,
   "id": "21f466c1",
   "metadata": {},
   "outputs": [
    {
     "name": "stdout",
     "output_type": "stream",
     "text": [
      "Enter Your Search Item:cars\n"
     ]
    }
   ],
   "source": [
    "for _ in range(20):\n",
    "    driver.execute_script('window.scrollBy(0,500)')\n",
    "    \n",
    "images= driver.find_elements(By.XPATH,'//img[@class=\"rg_i Q4LuWd\"]')\n",
    "\n",
    "image_url=[]\n",
    "for i in images:\n",
    "    source=i.get_attribute('src')\n",
    "    if source is not None:\n",
    "        if(source[0:4]=='http'):\n",
    "            image_url.append(source)\n",
    "            \n",
    "for i in range(len(image_url)):\n",
    "    if i >10:\n",
    "        break\n",
    "        \n",
    "    print('Downloading {0} of {1} images'.format (i,10))\n",
    "    response=requests.get(image_url[i])\n",
    "    file=open(r'C:\\Users\\ARNAB\\Desktop\\New folder\\fruits'+str(i)+'.jpg','wb')\n",
    "    file.write(response.content)\n",
    "    \n",
    "    \n",
    "driver.back()\n",
    "time.sleep(2)\n",
    "\n",
    "\n",
    "Search_Item=input(\"Enter Your Search Item:\")\n",
    "driver=webdriver.Chrome()\n",
    "driver.get('https://www.google.com/')\n",
    "time.sleep(2)\n",
    "    "
   ]
  },
  {
   "cell_type": "code",
   "execution_count": 36,
   "id": "c94367e6",
   "metadata": {},
   "outputs": [],
   "source": [
    "input_tag=driver.find_element(By.CLASS_NAME,'gLFyf')\n",
    "input_tag.send_keys('cars')"
   ]
  },
  {
   "cell_type": "code",
   "execution_count": 37,
   "id": "6217ad4a",
   "metadata": {},
   "outputs": [],
   "source": [
    "search=driver.find_element(By.CLASS_NAME,'gNO89b').click()"
   ]
  },
  {
   "cell_type": "code",
   "execution_count": 41,
   "id": "66e0497f",
   "metadata": {},
   "outputs": [
    {
     "name": "stdout",
     "output_type": "stream",
     "text": [
      "Downloading 0 of 10 images\n",
      "Downloading 1 of 10 images\n",
      "Downloading 2 of 10 images\n",
      "Downloading 3 of 10 images\n",
      "Downloading 4 of 10 images\n",
      "Downloading 5 of 10 images\n",
      "Downloading 6 of 10 images\n",
      "Downloading 7 of 10 images\n",
      "Downloading 8 of 10 images\n",
      "Downloading 9 of 10 images\n",
      "Downloading 10 of 10 images\n"
     ]
    }
   ],
   "source": [
    "for _ in range(20):\n",
    "    driver.execute_script('window.scrollBy(0,500)')\n",
    "    \n",
    "images=driver.find_elements(By.XPATH,'//img[@class=\"rg_i Q4LuWd\"]')\n",
    "\n",
    "image_URL=[]\n",
    "\n",
    "for i in images:\n",
    "    url=i.get_attribute('src')\n",
    "    if url is not None:\n",
    "        if(url[0:4]=='http'):\n",
    "            image_URL.append(url)\n",
    "            \n",
    "            \n",
    "for i in range(len(image_URL)):\n",
    "    if i >10:\n",
    "        break\n",
    "    print ('Downloading {0} of {1} images'.format(i,10))\n",
    "    response=requests.get(image_URL[i])\n",
    "    file=open(r\"C:\\Users\\ARNAB\\Desktop\\New folder\\car\"+str(i)+\".jpg\", \"wb\")\n",
    "    file.write(response.content)\n",
    "    time.sleep(2)\n",
    "\n",
    "            "
   ]
  },
  {
   "cell_type": "code",
   "execution_count": 42,
   "id": "0648a30d",
   "metadata": {},
   "outputs": [],
   "source": [
    "driver.close()"
   ]
  },
  {
   "cell_type": "markdown",
   "id": "3b59f0e3",
   "metadata": {},
   "source": [
    "# Q4:"
   ]
  },
  {
   "cell_type": "code",
   "execution_count": 54,
   "id": "f1236756",
   "metadata": {},
   "outputs": [],
   "source": [
    "driver=webdriver.Chrome()\n",
    "driver.get('https://www.google.com/maps/@22.5354273,88.3473527,12z?entry=ttu')"
   ]
  },
  {
   "cell_type": "code",
   "execution_count": 56,
   "id": "66e7b001",
   "metadata": {},
   "outputs": [],
   "source": [
    "Search_item=driver.find_element(By.XPATH,'//input[@id=\"searchboxinput\"]').send_keys('kolkata')\n",
    "click=driver.find_element(By.XPATH,'/html/body/div[3]/div[8]/div[3]/div[1]/div[1]/div/div[2]/div[1]').click()"
   ]
  },
  {
   "cell_type": "code",
   "execution_count": 82,
   "id": "5b5c1ddb",
   "metadata": {},
   "outputs": [],
   "source": [
    "import re\n",
    "\n",
    "try:\n",
    "    url_string=driver.current_url\n",
    "    lat_long=re.findall(r'@(\\d+).(\\d{7})',url_string)\n",
    "    \n",
    "    \n",
    "except NoSuchElementException:\n",
    "    print (\"no information\")\n",
    "\n",
    "\n",
    "    \n",
    "    \n",
    "    "
   ]
  },
  {
   "cell_type": "code",
   "execution_count": 83,
   "id": "f15b4b47",
   "metadata": {},
   "outputs": [
    {
     "data": {
      "text/plain": [
       "[('22', '5354273')]"
      ]
     },
     "execution_count": 83,
     "metadata": {},
     "output_type": "execute_result"
    }
   ],
   "source": [
    "lat_long  "
   ]
  },
  {
   "cell_type": "markdown",
   "id": "dff0e3bb",
   "metadata": {},
   "source": [
    "# Q6:"
   ]
  },
  {
   "cell_type": "code",
   "execution_count": 91,
   "id": "96f4829a",
   "metadata": {},
   "outputs": [],
   "source": [
    "driver=webdriver.Chrome()\n",
    "driver.get('https://www.digit.in/')\n"
   ]
  },
  {
   "cell_type": "code",
   "execution_count": 93,
   "id": "a60113be",
   "metadata": {},
   "outputs": [],
   "source": [
    "First_click=driver.find_element(By.XPATH,'/html/body/div[1]/header/div/div[2]/div/div/div/button').click()"
   ]
  },
  {
   "cell_type": "code",
   "execution_count": 94,
   "id": "ce068fea",
   "metadata": {},
   "outputs": [],
   "source": [
    "Top_ten_click=driver.find_element(By.XPATH,'/html/body/div[4]/div/ul/li[4]').click()"
   ]
  },
  {
   "cell_type": "code",
   "execution_count": 95,
   "id": "85327026",
   "metadata": {},
   "outputs": [],
   "source": [
    "Top_laptop_click=driver.find_element(By.XPATH,'/html/body/div[1]/div[3]/div/div[2]/div[1]/div[3]/div[6]/p/a').click()"
   ]
  },
  {
   "cell_type": "code",
   "execution_count": 97,
   "id": "f021c06d",
   "metadata": {},
   "outputs": [],
   "source": [
    "product_url=[]\n",
    "\n",
    "url=driver.find_elements(By.XPATH,'//h3[@class=\"font130 mt0 mb10 mobilesblockdisplay \"]/a')\n",
    "\n",
    "for i in url:\n",
    "    product_url.append(i.get_attribute('href'))\n",
    "    "
   ]
  },
  {
   "cell_type": "code",
   "execution_count": 101,
   "id": "22ae491e",
   "metadata": {},
   "outputs": [],
   "source": [
    "Product_Name=[]\n",
    "Update_Date=[]\n",
    "offer_Price=[]\n",
    "product_Link=[]\n",
    "\n",
    "for i in product_url:\n",
    "    driver.get(i)\n",
    "    time.sleep(2)\n",
    "    \n",
    "\n",
    "\n",
    "    try:\n",
    "        name=driver.find_element(By.XPATH,'//h1[@class=\"floatleft tabletblockdisplay pr20 \"]')\n",
    "        Product_Name.append(name.text)\n",
    "    \n",
    "    except NoSuchElementException:\n",
    "        Product_Name.append('No Information')\n",
    "        \n",
    "    try:\n",
    "        date=driver.find_element(By.CLASS_NAME,'updated_on')\n",
    "        Update_Date.append(date.text)\n",
    "        \n",
    "    except NoSuchElementException:\n",
    "        Update_Date.append('No information')\n",
    "        \n",
    "    try:\n",
    "        price=driver.find_element(By.XPATH,'/html/body/div[2]/div[3]/div[1]/div/div/div/div/div[2]/div[1]/div[4]/div[9]/div[1]/div/div[2]/div[3]/div/div[1]')\n",
    "        offer_Price.append(price.text)\n",
    "        \n",
    "    except NoSuchElementException:\n",
    "        offer_Price.append('No information')\n",
    "        \n",
    "    try:\n",
    "        link=driver.find_element(By.XPATH,'//div[@class=\"cegg-btn-row\"]/a')\n",
    "        product_Link.append(link.get_attribute('href'))\n",
    "        \n",
    "    except NoSuchElementException:\n",
    "        product_Link.append('No information')\n",
    "        \n",
    "        \n",
    "           \n",
    "    "
   ]
  },
  {
   "cell_type": "code",
   "execution_count": 102,
   "id": "88ff7a22",
   "metadata": {},
   "outputs": [
    {
     "data": {
      "text/html": [
       "<div>\n",
       "<style scoped>\n",
       "    .dataframe tbody tr th:only-of-type {\n",
       "        vertical-align: middle;\n",
       "    }\n",
       "\n",
       "    .dataframe tbody tr th {\n",
       "        vertical-align: top;\n",
       "    }\n",
       "\n",
       "    .dataframe thead th {\n",
       "        text-align: right;\n",
       "    }\n",
       "</style>\n",
       "<table border=\"1\" class=\"dataframe\">\n",
       "  <thead>\n",
       "    <tr style=\"text-align: right;\">\n",
       "      <th></th>\n",
       "      <th>Product_Name</th>\n",
       "      <th>Update_Date</th>\n",
       "      <th>offer_Price</th>\n",
       "      <th>product_Link</th>\n",
       "    </tr>\n",
       "  </thead>\n",
       "  <tbody>\n",
       "    <tr>\n",
       "      <th>0</th>\n",
       "      <td>Apple MacBook Air 2022 M2 MLY03HN/A</td>\n",
       "      <td>Updated on 03-Aug-2023</td>\n",
       "      <td>Rs. 107,990</td>\n",
       "      <td>https://www.amazon.in/dp/B0B3BQ11LP?tag=thinkd...</td>\n",
       "    </tr>\n",
       "    <tr>\n",
       "      <th>1</th>\n",
       "      <td>Samsung Galaxy Book3 Pro 360</td>\n",
       "      <td>Updated on 17-Nov-2023</td>\n",
       "      <td>Rs. 179,990</td>\n",
       "      <td>https://www.amazon.in/dp/B0BS9GT77Q?tag=thinkd...</td>\n",
       "    </tr>\n",
       "    <tr>\n",
       "      <th>2</th>\n",
       "      <td>Lenovo Yoga 9i13th Gen Core I7-1360P</td>\n",
       "      <td>Updated on 08-May-2023</td>\n",
       "      <td>No information</td>\n",
       "      <td>No information</td>\n",
       "    </tr>\n",
       "    <tr>\n",
       "      <th>3</th>\n",
       "      <td>Apple MacBook Pro M2 (2023-MPHK3HN/A)</td>\n",
       "      <td>Updated on 18-Nov-2023</td>\n",
       "      <td>out of stock</td>\n",
       "      <td>https://www.amazon.in/dp/B0BSJ1Y4YX?tag=thinkd...</td>\n",
       "    </tr>\n",
       "    <tr>\n",
       "      <th>4</th>\n",
       "      <td>Dell XPS 13 Plus D560075WIN9S 12th Gen Core I7...</td>\n",
       "      <td>Updated on 17-Nov-2023</td>\n",
       "      <td>Rs. 177,535</td>\n",
       "      <td>https://www.amazon.in/dp/B0B5DRTH1L?tag=thinkd...</td>\n",
       "    </tr>\n",
       "    <tr>\n",
       "      <th>5</th>\n",
       "      <td>Acer Swift X SFX16-51G 11th Gen Core I7-11390H</td>\n",
       "      <td>Updated on 17-Nov-2023</td>\n",
       "      <td>Rs. 97,290</td>\n",
       "      <td>https://www.amazon.in/dp/B0B3XP8C1V?tag=thinkd...</td>\n",
       "    </tr>\n",
       "  </tbody>\n",
       "</table>\n",
       "</div>"
      ],
      "text/plain": [
       "                                        Product_Name             Update_Date  \\\n",
       "0                Apple MacBook Air 2022 M2 MLY03HN/A  Updated on 03-Aug-2023   \n",
       "1                       Samsung Galaxy Book3 Pro 360  Updated on 17-Nov-2023   \n",
       "2               Lenovo Yoga 9i13th Gen Core I7-1360P  Updated on 08-May-2023   \n",
       "3              Apple MacBook Pro M2 (2023-MPHK3HN/A)  Updated on 18-Nov-2023   \n",
       "4  Dell XPS 13 Plus D560075WIN9S 12th Gen Core I7...  Updated on 17-Nov-2023   \n",
       "5     Acer Swift X SFX16-51G 11th Gen Core I7-11390H  Updated on 17-Nov-2023   \n",
       "\n",
       "      offer_Price                                       product_Link  \n",
       "0     Rs. 107,990  https://www.amazon.in/dp/B0B3BQ11LP?tag=thinkd...  \n",
       "1     Rs. 179,990  https://www.amazon.in/dp/B0BS9GT77Q?tag=thinkd...  \n",
       "2  No information                                     No information  \n",
       "3    out of stock  https://www.amazon.in/dp/B0BSJ1Y4YX?tag=thinkd...  \n",
       "4     Rs. 177,535  https://www.amazon.in/dp/B0B5DRTH1L?tag=thinkd...  \n",
       "5      Rs. 97,290  https://www.amazon.in/dp/B0B3XP8C1V?tag=thinkd...  "
      ]
     },
     "execution_count": 102,
     "metadata": {},
     "output_type": "execute_result"
    }
   ],
   "source": [
    "import pandas as pd\n",
    "df=pd.DataFrame({'Product_Name':Product_Name,'Update_Date':Update_Date,'offer_Price':offer_Price,'product_Link':product_Link})\n",
    "df"
   ]
  },
  {
   "cell_type": "markdown",
   "id": "379c477a",
   "metadata": {},
   "source": [
    "# Q7:"
   ]
  },
  {
   "cell_type": "code",
   "execution_count": 1,
   "id": "71490ad2",
   "metadata": {},
   "outputs": [],
   "source": [
    "import selenium\n",
    "import time\n",
    "from selenium import webdriver\n",
    "from selenium.webdriver.common.by import By\n",
    "from selenium.common.exceptions import StaleElementReferenceException,NoSuchElementException\n",
    "import pandas as pd"
   ]
  },
  {
   "cell_type": "code",
   "execution_count": 2,
   "id": "249c9ce9",
   "metadata": {},
   "outputs": [],
   "source": [
    "driver=webdriver.Chrome()\n",
    "driver.get('https://www.forbes.com/billionaires/')"
   ]
  },
  {
   "cell_type": "code",
   "execution_count": 18,
   "id": "13920449",
   "metadata": {},
   "outputs": [
    {
     "ename": "IndentationError",
     "evalue": "unexpected indent (3929642410.py, line 4)",
     "output_type": "error",
     "traceback": [
      "\u001b[1;36m  Cell \u001b[1;32mIn[18], line 4\u001b[1;36m\u001b[0m\n\u001b[1;33m    Name.append(i.text)\u001b[0m\n\u001b[1;37m    ^\u001b[0m\n\u001b[1;31mIndentationError\u001b[0m\u001b[1;31m:\u001b[0m unexpected indent\n"
     ]
    }
   ],
   "source": [
    "Name=[]\n",
    "\n",
    "name=driver.find_elements(By.XPATH,'//div[@class=\"Table_dataCell__2QCve\"][1]')\n",
    "    Name.append(i.text)\n",
    "    "
   ]
  },
  {
   "cell_type": "code",
   "execution_count": 19,
   "id": "c60edea7",
   "metadata": {},
   "outputs": [
    {
     "data": {
      "text/plain": [
       "['Bernard Arnault & family']"
      ]
     },
     "execution_count": 19,
     "metadata": {},
     "output_type": "execute_result"
    }
   ],
   "source": [
    "Name"
   ]
  },
  {
   "cell_type": "markdown",
   "id": "4aef4d31",
   "metadata": {},
   "source": [
    "# Q8:"
   ]
  },
  {
   "cell_type": "code",
   "execution_count": 22,
   "id": "b42be56a",
   "metadata": {},
   "outputs": [],
   "source": [
    "driver=webdriver.Chrome()\n",
    "driver.get('https://www.youtube.com/watch?v=NqTysMyLuTA')"
   ]
  },
  {
   "cell_type": "code",
   "execution_count": 39,
   "id": "7524326d",
   "metadata": {},
   "outputs": [],
   "source": [
    "for _ in range(50):\n",
    "    driver.execute_script('window.scrollBy (0,500)')\n",
    "    \n",
    "    \n",
    "Account=[]\n",
    "comments=[]\n",
    "post_time=[]\n",
    "\n",
    "try:\n",
    "    account=driver.find_elements(By.XPATH,'//h3[@class=\"style-scope ytd-comment-renderer\"]/a')\n",
    "    for i in account:\n",
    "        Account.append(i.text)\n",
    "        \n",
    "except NoSuchElementException:\n",
    "    Account.append('No Account found')\n",
    "    \n",
    "try:\n",
    "    comment=driver.find_elements(By.XPATH,'//yt-formatted-string[@id=\"content-text\"]')\n",
    "    for i in comment:\n",
    "        comments.append(i.text)\n",
    "        \n",
    "except NoSuchElementException:\n",
    "    comments.append('No Comments')\n",
    "    \n",
    "    \n",
    "try:\n",
    "    post=driver.find_elements(By.XPATH,'//yt-formatted-string[@class=\"published-time-text style-scope ytd-comment-renderer\"]/a')\n",
    "    for i in post:\n",
    "        post_time.append(i.text)\n",
    "\n",
    "except NoSuchElementException:\n",
    "    post_time.append('No post time')\n",
    "        \n",
    "        \n",
    "    \n",
    "        "
   ]
  },
  {
   "cell_type": "code",
   "execution_count": 41,
   "id": "45c25705",
   "metadata": {},
   "outputs": [
    {
     "data": {
      "text/html": [
       "<div>\n",
       "<style scoped>\n",
       "    .dataframe tbody tr th:only-of-type {\n",
       "        vertical-align: middle;\n",
       "    }\n",
       "\n",
       "    .dataframe tbody tr th {\n",
       "        vertical-align: top;\n",
       "    }\n",
       "\n",
       "    .dataframe thead th {\n",
       "        text-align: right;\n",
       "    }\n",
       "</style>\n",
       "<table border=\"1\" class=\"dataframe\">\n",
       "  <thead>\n",
       "    <tr style=\"text-align: right;\">\n",
       "      <th></th>\n",
       "      <th>Account</th>\n",
       "      <th>comments</th>\n",
       "      <th>post_time</th>\n",
       "    </tr>\n",
       "  </thead>\n",
       "  <tbody>\n",
       "    <tr>\n",
       "      <th>0</th>\n",
       "      <td>@BollywoodMashupIndia</td>\n",
       "      <td>In a bus + window seat + long journey +light r...</td>\n",
       "      <td>4 weeks ago</td>\n",
       "    </tr>\n",
       "    <tr>\n",
       "      <th>1</th>\n",
       "      <td>@harvinderarora1824</td>\n",
       "      <td>every day I put these songs  I love them</td>\n",
       "      <td>4 days ago</td>\n",
       "    </tr>\n",
       "    <tr>\n",
       "      <th>2</th>\n",
       "      <td>@AbidSalon</td>\n",
       "      <td>Beautiful song</td>\n",
       "      <td>4 weeks ago</td>\n",
       "    </tr>\n",
       "    <tr>\n",
       "      <th>3</th>\n",
       "      <td>@joeykempis1433</td>\n",
       "      <td>I love the song even i dont understand the son...</td>\n",
       "      <td>4 weeks ago</td>\n",
       "    </tr>\n",
       "    <tr>\n",
       "      <th>4</th>\n",
       "      <td>@riyadelores9571</td>\n",
       "      <td>AWESOME VOICE</td>\n",
       "      <td>2 months ago</td>\n",
       "    </tr>\n",
       "    <tr>\n",
       "      <th>...</th>\n",
       "      <td>...</td>\n",
       "      <td>...</td>\n",
       "      <td>...</td>\n",
       "    </tr>\n",
       "    <tr>\n",
       "      <th>67</th>\n",
       "      <td>@elonmusk-tl5sc</td>\n",
       "      <td>Tumarkivideogolo</td>\n",
       "      <td>2 months ago</td>\n",
       "    </tr>\n",
       "    <tr>\n",
       "      <th>68</th>\n",
       "      <td>@RameshKaul-ns7sh</td>\n",
       "      <td></td>\n",
       "      <td>1 month ago</td>\n",
       "    </tr>\n",
       "    <tr>\n",
       "      <th>69</th>\n",
       "      <td>@RameshKaul-ns7sh</td>\n",
       "      <td></td>\n",
       "      <td>1 month ago</td>\n",
       "    </tr>\n",
       "    <tr>\n",
       "      <th>70</th>\n",
       "      <td>@RameshKaul-ns7sh</td>\n",
       "      <td></td>\n",
       "      <td>1 month ago</td>\n",
       "    </tr>\n",
       "    <tr>\n",
       "      <th>71</th>\n",
       "      <td>@RameshKaul-ns7sh</td>\n",
       "      <td></td>\n",
       "      <td>4 weeks ago</td>\n",
       "    </tr>\n",
       "  </tbody>\n",
       "</table>\n",
       "<p>72 rows × 3 columns</p>\n",
       "</div>"
      ],
      "text/plain": [
       "                  Account                                           comments  \\\n",
       "0   @BollywoodMashupIndia  In a bus + window seat + long journey +light r...   \n",
       "1     @harvinderarora1824           every day I put these songs  I love them   \n",
       "2              @AbidSalon                                    Beautiful song    \n",
       "3         @joeykempis1433  I love the song even i dont understand the son...   \n",
       "4        @riyadelores9571                                     AWESOME VOICE    \n",
       "..                    ...                                                ...   \n",
       "67        @elonmusk-tl5sc                                   Tumarkivideogolo   \n",
       "68      @RameshKaul-ns7sh                                                      \n",
       "69      @RameshKaul-ns7sh                                                      \n",
       "70      @RameshKaul-ns7sh                                                      \n",
       "71      @RameshKaul-ns7sh                                                      \n",
       "\n",
       "       post_time  \n",
       "0    4 weeks ago  \n",
       "1     4 days ago  \n",
       "2    4 weeks ago  \n",
       "3    4 weeks ago  \n",
       "4   2 months ago  \n",
       "..           ...  \n",
       "67  2 months ago  \n",
       "68   1 month ago  \n",
       "69   1 month ago  \n",
       "70   1 month ago  \n",
       "71   4 weeks ago  \n",
       "\n",
       "[72 rows x 3 columns]"
      ]
     },
     "execution_count": 41,
     "metadata": {},
     "output_type": "execute_result"
    }
   ],
   "source": [
    "df=pd.DataFrame({'Account':Account,'comments':comments,'post_time':post_time})\n",
    "df"
   ]
  },
  {
   "cell_type": "markdown",
   "id": "dd04d677",
   "metadata": {},
   "source": [
    "# Q9:"
   ]
  },
  {
   "cell_type": "code",
   "execution_count": 42,
   "id": "c244f219",
   "metadata": {},
   "outputs": [],
   "source": [
    "driver=webdriver.Chrome()\n",
    "driver.get('https://www.hostelworld.com/')\n",
    "time.sleep(2)"
   ]
  },
  {
   "cell_type": "code",
   "execution_count": 47,
   "id": "6a329bda",
   "metadata": {},
   "outputs": [],
   "source": [
    "input_tag=driver.find_element(By.XPATH,'//*[@id=\"__layout\"]/div/div[2]/div[2]/div[2]/div/div/div/div[1]/div[1]/div/div[2]/input')\n",
    "input_tag.send_keys('London')"
   ]
  },
  {
   "cell_type": "code",
   "execution_count": 48,
   "id": "fd6fea77",
   "metadata": {},
   "outputs": [],
   "source": [
    "london_click=driver.find_element(By.XPATH,'//*[@id=\"3\"]/button/div[2]/div[1]').click()\n"
   ]
  },
  {
   "cell_type": "code",
   "execution_count": 55,
   "id": "3aa7743b",
   "metadata": {},
   "outputs": [],
   "source": [
    "Hotel_name=[]\n",
    "Distance_from_hostel=[]\n",
    "private_from=[]\n",
    "Dorms_from=[]\n",
    "\n",
    "try:\n",
    "    name=driver.find_elements(By.XPATH,'//div[@class=\"property-name\"]/span')\n",
    "    for i in name:\n",
    "        Hotel_name.append(i.text)\n",
    "        \n",
    "except NoSuchElementException:\n",
    "    Hotel_name.append('No Information')\n",
    "        \n",
    "    \n",
    "\n",
    "try:\n",
    "    distance=driver.find_elements(By.XPATH,'//span[@class=\"distance-description\"]')\n",
    "    for i in distance:\n",
    "        Distance_from_hostel.append(i.text)\n",
    "        \n",
    "except NoSuchElementException:\n",
    "    Distance_from_hostel.append('No Information')\n",
    "    \n"
   ]
  },
  {
   "cell_type": "code",
   "execution_count": 57,
   "id": "6377d1b2",
   "metadata": {},
   "outputs": [
    {
     "data": {
      "text/plain": [
       "30"
      ]
     },
     "execution_count": 57,
     "metadata": {},
     "output_type": "execute_result"
    }
   ],
   "source": [
    "len(Distance_from_hostel)"
   ]
  },
  {
   "cell_type": "code",
   "execution_count": null,
   "id": "8c0a33cb",
   "metadata": {},
   "outputs": [],
   "source": []
  }
 ],
 "metadata": {
  "kernelspec": {
   "display_name": "Python 3 (ipykernel)",
   "language": "python",
   "name": "python3"
  },
  "language_info": {
   "codemirror_mode": {
    "name": "ipython",
    "version": 3
   },
   "file_extension": ".py",
   "mimetype": "text/x-python",
   "name": "python",
   "nbconvert_exporter": "python",
   "pygments_lexer": "ipython3",
   "version": "3.11.4"
  },
  "varInspector": {
   "cols": {
    "lenName": 16,
    "lenType": 16,
    "lenVar": 40
   },
   "kernels_config": {
    "python": {
     "delete_cmd_postfix": "",
     "delete_cmd_prefix": "del ",
     "library": "var_list.py",
     "varRefreshCmd": "print(var_dic_list())"
    },
    "r": {
     "delete_cmd_postfix": ") ",
     "delete_cmd_prefix": "rm(",
     "library": "var_list.r",
     "varRefreshCmd": "cat(var_dic_list()) "
    }
   },
   "types_to_exclude": [
    "module",
    "function",
    "builtin_function_or_method",
    "instance",
    "_Feature"
   ],
   "window_display": false
  }
 },
 "nbformat": 4,
 "nbformat_minor": 5
}
